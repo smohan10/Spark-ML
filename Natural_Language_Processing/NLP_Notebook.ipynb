{
 "cells": [
  {
   "cell_type": "code",
   "execution_count": 1,
   "metadata": {
    "collapsed": true
   },
   "outputs": [],
   "source": [
    "### Tutorial on Natural Language Processing Techniques\n",
    "\n",
    "#### For more information please visit:\n",
    "##### https://spark.apache.org/docs/2.1.0/ml-features.html#feature-extractors"
   ]
  },
  {
   "cell_type": "code",
   "execution_count": 2,
   "metadata": {
    "collapsed": true
   },
   "outputs": [],
   "source": [
    "# Import the necessary libraries\n",
    "from pyspark.sql import SparkSession\n",
    "from pyspark.ml.feature import (Tokenizer, RegexTokenizer, StopWordsRemover, NGram, IDF, \n",
    "                            HashingTF, CountVectorizer, StringIndexer, VectorAssembler)\n",
    "from pyspark.sql.functions import col, udf, length\n",
    "from pyspark.sql.types import IntegerType\n",
    "from pyspark.ml.classification import NaiveBayes\n",
    "from pyspark.ml import Pipeline\n",
    "from pyspark.ml.evaluation import MulticlassClassificationEvaluator"
   ]
  },
  {
   "cell_type": "code",
   "execution_count": 3,
   "metadata": {
    "collapsed": true
   },
   "outputs": [],
   "source": [
    "# Create a spark session\n",
    "spark = SparkSession.builder.appName(\"NLP\").getOrCreate()"
   ]
  },
  {
   "cell_type": "markdown",
   "metadata": {},
   "source": [
    "## Tutorial on NLP techniques\n",
    "\n",
    "### 1. Tokenizer\n",
    "#### Tokenizer splits the sentence into words on whitespace"
   ]
  },
  {
   "cell_type": "code",
   "execution_count": 4,
   "metadata": {},
   "outputs": [
    {
     "name": "stdout",
     "output_type": "stream",
     "text": [
      "+---+--------------------+\n",
      "| id|            sentence|\n",
      "+---+--------------------+\n",
      "|  0|Hi I heard about ...|\n",
      "|  1|I wish Java could...|\n",
      "|  2|Logistic,regressi...|\n",
      "+---+--------------------+\n",
      "\n"
     ]
    }
   ],
   "source": [
    "# Create data frames and apply tokenizer method on the data\n",
    "# Tokenizer splits the sentence into words\n",
    "\n",
    "sentenceDataFrame = spark.createDataFrame([\n",
    "    (0, \"Hi I heard about Spark\"),\n",
    "    (1, \"I wish Java could use case classes\"),\n",
    "    (2, \"Logistic,regression,models,are,neat\")\n",
    "], [\"id\", \"sentence\"])\n",
    "\n",
    "sentenceDataFrame.show()"
   ]
  },
  {
   "cell_type": "code",
   "execution_count": 5,
   "metadata": {},
   "outputs": [
    {
     "name": "stdout",
     "output_type": "stream",
     "text": [
      "+---+--------------------+--------------------+\n",
      "| id|            sentence|               words|\n",
      "+---+--------------------+--------------------+\n",
      "|  0|Hi I heard about ...|[hi, i, heard, ab...|\n",
      "|  1|I wish Java could...|[i, wish, java, c...|\n",
      "|  2|Logistic,regressi...|[logistic,regress...|\n",
      "+---+--------------------+--------------------+\n",
      "\n"
     ]
    }
   ],
   "source": [
    "# Create a tokenizer object and create a new words column\n",
    "token = Tokenizer(inputCol='sentence', outputCol='words')\n",
    "tokenized = token.transform(sentenceDataFrame)\n",
    "tokenized.show()"
   ]
  },
  {
   "cell_type": "code",
   "execution_count": 6,
   "metadata": {},
   "outputs": [
    {
     "name": "stdout",
     "output_type": "stream",
     "text": [
      "+---+-----------------------------------+------------------------------------------+------+\n",
      "|id |sentence                           |words                                     |tokens|\n",
      "+---+-----------------------------------+------------------------------------------+------+\n",
      "|0  |Hi I heard about Spark             |[hi, i, heard, about, spark]              |5     |\n",
      "|1  |I wish Java could use case classes |[i, wish, java, could, use, case, classes]|7     |\n",
      "|2  |Logistic,regression,models,are,neat|[logistic,regression,models,are,neat]     |1     |\n",
      "+---+-----------------------------------+------------------------------------------+------+\n",
      "\n"
     ]
    }
   ],
   "source": [
    "# Create a column to include count of number of words. Treat this column as input feature\n",
    "countTokens = udf(lambda w: len(w), IntegerType())\n",
    "\n",
    "tokenized.withColumn(\"tokens\", countTokens(col(\"words\"))).show(truncate=False)"
   ]
  },
  {
   "cell_type": "code",
   "execution_count": 8,
   "metadata": {},
   "outputs": [
    {
     "name": "stdout",
     "output_type": "stream",
     "text": [
      "+---+--------------------+--------------------+\n",
      "| id|            sentence|               words|\n",
      "+---+--------------------+--------------------+\n",
      "|  0|Hi I heard about ...|[hi, i, heard, ab...|\n",
      "|  1|I wish Java could...|[i, wish, java, c...|\n",
      "|  2|Logistic,regressi...|[logistic, regres...|\n",
      "+---+--------------------+--------------------+\n",
      "\n"
     ]
    }
   ],
   "source": [
    "# Above data, last entry is treated as entire string. This is solved using a \n",
    "# Regex Tokenizer and providing a pattern \n",
    "regex_token = RegexTokenizer(inputCol='sentence', outputCol='words', pattern=\"\\\\W\")\n",
    "regex_tokenized = regex_token.transform(sentenceDataFrame)\n",
    "regex_tokenized.show()"
   ]
  },
  {
   "cell_type": "code",
   "execution_count": 9,
   "metadata": {},
   "outputs": [
    {
     "name": "stdout",
     "output_type": "stream",
     "text": [
      "+---+-----------------------------------+------------------------------------------+------+\n",
      "|id |sentence                           |words                                     |tokens|\n",
      "+---+-----------------------------------+------------------------------------------+------+\n",
      "|0  |Hi I heard about Spark             |[hi, i, heard, about, spark]              |5     |\n",
      "|1  |I wish Java could use case classes |[i, wish, java, could, use, case, classes]|7     |\n",
      "|2  |Logistic,regression,models,are,neat|[logistic, regression, models, are, neat] |5     |\n",
      "+---+-----------------------------------+------------------------------------------+------+\n",
      "\n"
     ]
    }
   ],
   "source": [
    "regex_tokenized.withColumn(\"tokens\", countTokens(col(\"words\"))).show(truncate=False)"
   ]
  },
  {
   "cell_type": "markdown",
   "metadata": {},
   "source": [
    "### Stop Words Remover\n",
    "#### Remove the stop words (common words such as is, are, and, the which are not important in the bigger context)\n"
   ]
  },
  {
   "cell_type": "code",
   "execution_count": 10,
   "metadata": {},
   "outputs": [
    {
     "name": "stdout",
     "output_type": "stream",
     "text": [
      "+---+----------------------------+--------------------+\n",
      "|id |raw                         |filtered            |\n",
      "+---+----------------------------+--------------------+\n",
      "|0  |[I, saw, the, red, balloon] |[saw, red, balloon] |\n",
      "|1  |[Mary, had, a, little, lamb]|[Mary, little, lamb]|\n",
      "+---+----------------------------+--------------------+\n",
      "\n"
     ]
    }
   ],
   "source": [
    "# Create input data frame\n",
    "sentenceData = spark.createDataFrame([\n",
    "    (0, [\"I\", \"saw\", \"the\", \"red\", \"balloon\"]),\n",
    "    (1, [\"Mary\", \"had\", \"a\", \"little\", \"lamb\"])\n",
    "], [\"id\", \"raw\"])\n",
    "\n",
    "# Create a stop words removed object and transform and show the result\n",
    "remover = StopWordsRemover(inputCol=\"raw\", outputCol=\"filtered\")\n",
    "remover.transform(sentenceData).show(truncate=False)"
   ]
  },
  {
   "cell_type": "markdown",
   "metadata": {},
   "source": [
    "### N-grams\n",
    "#### N-grams are used for language modeling. In this example, the Ngrams groups the data into a group consists of N elements\n",
    "#### For example, bigram models groups data in pairs. The current word and the next word are grouped as pairs as input training data "
   ]
  },
  {
   "cell_type": "code",
   "execution_count": 11,
   "metadata": {},
   "outputs": [
    {
     "name": "stdout",
     "output_type": "stream",
     "text": [
      "+---+------------------------------------------+\n",
      "|id |words                                     |\n",
      "+---+------------------------------------------+\n",
      "|0  |[Hi, I, heard, about, Spark]              |\n",
      "|1  |[I, wish, Java, could, use, case, classes]|\n",
      "|2  |[Logistic, regression, models, are, neat] |\n",
      "+---+------------------------------------------+\n",
      "\n"
     ]
    }
   ],
   "source": [
    "# Create a input data frame\n",
    "\n",
    "wordDataFrame = spark.createDataFrame([\n",
    "    (0, [\"Hi\", \"I\", \"heard\", \"about\", \"Spark\"]),\n",
    "    (1, [\"I\", \"wish\", \"Java\", \"could\", \"use\", \"case\", \"classes\"]),\n",
    "    (2, [\"Logistic\", \"regression\", \"models\", \"are\", \"neat\"])\n",
    "], [\"id\", \"words\"])\n",
    "\n",
    "wordDataFrame.show(truncate=False)\n"
   ]
  },
  {
   "cell_type": "code",
   "execution_count": 12,
   "metadata": {},
   "outputs": [
    {
     "name": "stdout",
     "output_type": "stream",
     "text": [
      "+---+------------------------------------------+------------------------------------------------------------------+\n",
      "|id |words                                     |ngrams                                                            |\n",
      "+---+------------------------------------------+------------------------------------------------------------------+\n",
      "|0  |[Hi, I, heard, about, Spark]              |[Hi I, I heard, heard about, about Spark]                         |\n",
      "|1  |[I, wish, Java, could, use, case, classes]|[I wish, wish Java, Java could, could use, use case, case classes]|\n",
      "|2  |[Logistic, regression, models, are, neat] |[Logistic regression, regression models, models are, are neat]    |\n",
      "+---+------------------------------------------+------------------------------------------------------------------+\n",
      "\n"
     ]
    }
   ],
   "source": [
    "# Build an ngram model with n = 2\n",
    "ngrams = NGram(n=2, inputCol=\"words\", outputCol=\"ngrams\")\n",
    "ngrams.transform(wordDataFrame).show(truncate=False)"
   ]
  },
  {
   "cell_type": "markdown",
   "metadata": {},
   "source": [
    "### TF-IDF\n",
    "#### Feature extraction technique to convert words into vectors based on the count and term frequency of the words in the sentence and in the dataset combined"
   ]
  },
  {
   "cell_type": "code",
   "execution_count": 14,
   "metadata": {},
   "outputs": [
    {
     "name": "stdout",
     "output_type": "stream",
     "text": [
      "+-----+--------------------+\n",
      "|label|            sentence|\n",
      "+-----+--------------------+\n",
      "|  0.0|Hi I heard about ...|\n",
      "|  0.0|I wish Java could...|\n",
      "|  1.0|Logistic regressi...|\n",
      "+-----+--------------------+\n",
      "\n"
     ]
    }
   ],
   "source": [
    "# Createan input data frame\n",
    "\n",
    "sentenceData = spark.createDataFrame([\n",
    "    (0.0, \"Hi I heard about Spark\"),\n",
    "    (0.0, \"I wish Java could use case classes\"),\n",
    "    (1.0, \"Logistic regression models are neat\")\n",
    "], [\"label\", \"sentence\"])\n",
    "\n",
    "sentenceData.show()"
   ]
  },
  {
   "cell_type": "code",
   "execution_count": 15,
   "metadata": {},
   "outputs": [
    {
     "name": "stdout",
     "output_type": "stream",
     "text": [
      "+-----+--------------------+--------------------+\n",
      "|label|            sentence|               words|\n",
      "+-----+--------------------+--------------------+\n",
      "|  0.0|Hi I heard about ...|[hi, i, heard, ab...|\n",
      "|  0.0|I wish Java could...|[i, wish, java, c...|\n",
      "|  1.0|Logistic regressi...|[logistic, regres...|\n",
      "+-----+--------------------+--------------------+\n",
      "\n"
     ]
    }
   ],
   "source": [
    "# Apply tokenizer on the dataset \n",
    "\n",
    "tokenizer = Tokenizer(inputCol=\"sentence\", outputCol=\"words\")\n",
    "wordsData = tokenizer.transform(sentenceData)\n",
    "wordsData.show()"
   ]
  },
  {
   "cell_type": "code",
   "execution_count": 16,
   "metadata": {},
   "outputs": [
    {
     "name": "stdout",
     "output_type": "stream",
     "text": [
      "+-----+-----------------------------------+------------------------------------------+-----------------------------------------+\n",
      "|label|sentence                           |words                                     |tf_words                                 |\n",
      "+-----+-----------------------------------+------------------------------------------+-----------------------------------------+\n",
      "|0.0  |Hi I heard about Spark             |[hi, i, heard, about, spark]              |(20,[0,5,9,17],[1.0,1.0,1.0,2.0])        |\n",
      "|0.0  |I wish Java could use case classes |[i, wish, java, could, use, case, classes]|(20,[2,7,9,13,15],[1.0,1.0,3.0,1.0,1.0]) |\n",
      "|1.0  |Logistic regression models are neat|[logistic, regression, models, are, neat] |(20,[4,6,13,15,18],[1.0,1.0,1.0,1.0,1.0])|\n",
      "+-----+-----------------------------------+------------------------------------------+-----------------------------------------+\n",
      "\n"
     ]
    }
   ],
   "source": [
    "# Calculate the TF and the IDF\n",
    "tf = HashingTF(inputCol=\"words\", outputCol=\"tf_words\", numFeatures=20)\n",
    "featurizedData = tf.transform(wordsData)\n",
    "featurizedData.show(truncate=False)"
   ]
  },
  {
   "cell_type": "code",
   "execution_count": 17,
   "metadata": {
    "collapsed": true
   },
   "outputs": [],
   "source": [
    "# Create idf object and fit and transform the TF data \n",
    "idf = IDF(inputCol=\"tf_words\", outputCol=\"features\")\n",
    "idfModel = idf.fit(featurizedData)\n",
    "rescaledData = idfModel.transform(featurizedData)\n"
   ]
  },
  {
   "cell_type": "code",
   "execution_count": 18,
   "metadata": {},
   "outputs": [
    {
     "name": "stdout",
     "output_type": "stream",
     "text": [
      "+-----+----------------------------------------------------------------------------------------------------------------------+\n",
      "|label|features                                                                                                              |\n",
      "+-----+----------------------------------------------------------------------------------------------------------------------+\n",
      "|0.0  |(20,[0,5,9,17],[0.6931471805599453,0.6931471805599453,0.28768207245178085,1.3862943611198906])                        |\n",
      "|0.0  |(20,[2,7,9,13,15],[0.6931471805599453,0.6931471805599453,0.8630462173553426,0.28768207245178085,0.28768207245178085]) |\n",
      "|1.0  |(20,[4,6,13,15,18],[0.6931471805599453,0.6931471805599453,0.28768207245178085,0.28768207245178085,0.6931471805599453])|\n",
      "+-----+----------------------------------------------------------------------------------------------------------------------+\n",
      "\n"
     ]
    }
   ],
   "source": [
    "rescaledData.select(\"label\", \"features\").show(truncate=False)"
   ]
  },
  {
   "cell_type": "markdown",
   "metadata": {},
   "source": [
    "### CountVectorizer\n",
    "#### Bag of words model based on count of words in the dataset"
   ]
  },
  {
   "cell_type": "code",
   "execution_count": 19,
   "metadata": {},
   "outputs": [
    {
     "name": "stdout",
     "output_type": "stream",
     "text": [
      "+---+---------------+-------------------------+\n",
      "|id |words          |features                 |\n",
      "+---+---------------+-------------------------+\n",
      "|0  |[a, b, c]      |(3,[0,1,2],[1.0,1.0,1.0])|\n",
      "|1  |[a, b, b, c, a]|(3,[0,1,2],[2.0,2.0,1.0])|\n",
      "+---+---------------+-------------------------+\n",
      "\n"
     ]
    }
   ],
   "source": [
    "# Input data: Each row is a bag of words with a ID.\n",
    "df = spark.createDataFrame([\n",
    "    (0, \"a b c\".split(\" \")),\n",
    "    (1, \"a b b c a\".split(\" \"))\n",
    "], [\"id\", \"words\"])\n",
    "\n",
    "# fit a CountVectorizerModel from the corpus.\n",
    "cv = CountVectorizer(inputCol=\"words\", outputCol=\"features\", vocabSize=3, minDF=2.0)\n",
    "\n",
    "model = cv.fit(df)\n",
    "\n",
    "result = model.transform(df)\n",
    "result.show(truncate=False)"
   ]
  },
  {
   "cell_type": "markdown",
   "metadata": {},
   "source": [
    "## WORK ON SPAM HAM DATA"
   ]
  },
  {
   "cell_type": "code",
   "execution_count": 20,
   "metadata": {
    "collapsed": true
   },
   "outputs": [],
   "source": [
    "data = spark.read.csv(\"smsspamcollection/SMSSpamCollection\",inferSchema=True,sep='\\t')"
   ]
  },
  {
   "cell_type": "code",
   "execution_count": 21,
   "metadata": {},
   "outputs": [
    {
     "name": "stdout",
     "output_type": "stream",
     "text": [
      "+----+--------------------+\n",
      "| _c0|                 _c1|\n",
      "+----+--------------------+\n",
      "| ham|Go until jurong p...|\n",
      "| ham|Ok lar... Joking ...|\n",
      "|spam|Free entry in 2 a...|\n",
      "| ham|U dun say so earl...|\n",
      "| ham|Nah I don't think...|\n",
      "|spam|FreeMsg Hey there...|\n",
      "| ham|Even my brother i...|\n",
      "| ham|As per your reque...|\n",
      "|spam|WINNER!! As a val...|\n",
      "|spam|Had your mobile 1...|\n",
      "| ham|I'm gonna be home...|\n",
      "|spam|SIX chances to wi...|\n",
      "|spam|URGENT! You have ...|\n",
      "| ham|I've been searchi...|\n",
      "| ham|I HAVE A DATE ON ...|\n",
      "|spam|XXXMobileMovieClu...|\n",
      "| ham|Oh k...i'm watchi...|\n",
      "| ham|Eh u remember how...|\n",
      "| ham|Fine if thats th...|\n",
      "|spam|England v Macedon...|\n",
      "+----+--------------------+\n",
      "only showing top 20 rows\n",
      "\n"
     ]
    }
   ],
   "source": [
    "data.show()"
   ]
  },
  {
   "cell_type": "code",
   "execution_count": 23,
   "metadata": {},
   "outputs": [
    {
     "name": "stdout",
     "output_type": "stream",
     "text": [
      "+-----+--------------------+\n",
      "|label|                text|\n",
      "+-----+--------------------+\n",
      "|  ham|Go until jurong p...|\n",
      "|  ham|Ok lar... Joking ...|\n",
      "| spam|Free entry in 2 a...|\n",
      "|  ham|U dun say so earl...|\n",
      "|  ham|Nah I don't think...|\n",
      "| spam|FreeMsg Hey there...|\n",
      "|  ham|Even my brother i...|\n",
      "|  ham|As per your reque...|\n",
      "| spam|WINNER!! As a val...|\n",
      "| spam|Had your mobile 1...|\n",
      "|  ham|I'm gonna be home...|\n",
      "| spam|SIX chances to wi...|\n",
      "| spam|URGENT! You have ...|\n",
      "|  ham|I've been searchi...|\n",
      "|  ham|I HAVE A DATE ON ...|\n",
      "| spam|XXXMobileMovieClu...|\n",
      "|  ham|Oh k...i'm watchi...|\n",
      "|  ham|Eh u remember how...|\n",
      "|  ham|Fine if thats th...|\n",
      "| spam|England v Macedon...|\n",
      "+-----+--------------------+\n",
      "only showing top 20 rows\n",
      "\n"
     ]
    }
   ],
   "source": [
    "# The dataset consists of sentences with labels SPAM or HAM \n",
    "data = data.withColumnRenamed(\"_c0\", \"label\").withColumnRenamed(\"_c1\",\"text\")\n",
    "data.show()"
   ]
  },
  {
   "cell_type": "code",
   "execution_count": 24,
   "metadata": {},
   "outputs": [
    {
     "name": "stdout",
     "output_type": "stream",
     "text": [
      "+-----+--------------------+------+\n",
      "|label|                text|length|\n",
      "+-----+--------------------+------+\n",
      "|  ham|Go until jurong p...|   111|\n",
      "|  ham|Ok lar... Joking ...|    29|\n",
      "| spam|Free entry in 2 a...|   155|\n",
      "|  ham|U dun say so earl...|    49|\n",
      "|  ham|Nah I don't think...|    61|\n",
      "| spam|FreeMsg Hey there...|   147|\n",
      "|  ham|Even my brother i...|    77|\n",
      "|  ham|As per your reque...|   160|\n",
      "| spam|WINNER!! As a val...|   157|\n",
      "| spam|Had your mobile 1...|   154|\n",
      "|  ham|I'm gonna be home...|   109|\n",
      "| spam|SIX chances to wi...|   136|\n",
      "| spam|URGENT! You have ...|   155|\n",
      "|  ham|I've been searchi...|   196|\n",
      "|  ham|I HAVE A DATE ON ...|    35|\n",
      "| spam|XXXMobileMovieClu...|   149|\n",
      "|  ham|Oh k...i'm watchi...|    26|\n",
      "|  ham|Eh u remember how...|    81|\n",
      "|  ham|Fine if thats th...|    56|\n",
      "| spam|England v Macedon...|   155|\n",
      "+-----+--------------------+------+\n",
      "only showing top 20 rows\n",
      "\n"
     ]
    }
   ],
   "source": [
    "# Create a new feature called length\n",
    "data = data.withColumn(\"length\", length(col(\"text\")))\n",
    "data.show()"
   ]
  },
  {
   "cell_type": "code",
   "execution_count": 26,
   "metadata": {
    "collapsed": true
   },
   "outputs": [],
   "source": [
    "# Feature transformation: Apply the tokenizer, stop word remover, count vectorizer, TF-IDF and string\n",
    "# indexer and use assembler to generate feature vector\n",
    "\n",
    "token = Tokenizer(inputCol=\"text\", outputCol=\"words_list\")\n",
    "stop_word = StopWordsRemover(inputCol=\"words_list\", outputCol= \"truncated_words\")\n",
    "count_vec = CountVectorizer(inputCol=\"truncated_words\", outputCol=\"count_words\")\n",
    "idf = IDF(inputCol=\"count_words\", outputCol=\"tf_idf\")\n",
    "ham_spam_number = StringIndexer(inputCol=\"label\", outputCol=\"idx\")\n",
    "\n",
    "assembler = VectorAssembler(inputCols=[\"tf_idf\",\"length\"], outputCol= \"feature_vector\")"
   ]
  },
  {
   "cell_type": "code",
   "execution_count": 27,
   "metadata": {
    "collapsed": true
   },
   "outputs": [],
   "source": [
    "# Create a Naive Bayes classifier\n",
    "nb = NaiveBayes(featuresCol=\"feature_vector\", labelCol=\"idx\")"
   ]
  },
  {
   "cell_type": "code",
   "execution_count": 28,
   "metadata": {},
   "outputs": [
    {
     "name": "stdout",
     "output_type": "stream",
     "text": [
      "+---+--------------------+\n",
      "|idx|      feature_vector|\n",
      "+---+--------------------+\n",
      "|0.0|(13424,[7,11,31,6...|\n",
      "|0.0|(13424,[0,24,297,...|\n",
      "|1.0|(13424,[2,13,19,3...|\n",
      "|0.0|(13424,[0,70,80,1...|\n",
      "|0.0|(13424,[36,134,31...|\n",
      "|1.0|(13424,[10,60,139...|\n",
      "|0.0|(13424,[10,53,103...|\n",
      "|0.0|(13424,[125,184,4...|\n",
      "|1.0|(13424,[1,47,118,...|\n",
      "|1.0|(13424,[0,1,13,27...|\n",
      "|0.0|(13424,[18,43,120...|\n",
      "|1.0|(13424,[8,17,37,8...|\n",
      "|1.0|(13424,[13,30,47,...|\n",
      "|0.0|(13424,[39,96,217...|\n",
      "|0.0|(13424,[552,1697,...|\n",
      "|1.0|(13424,[30,109,11...|\n",
      "|0.0|(13424,[82,214,47...|\n",
      "|0.0|(13424,[0,2,49,13...|\n",
      "|0.0|(13424,[0,74,105,...|\n",
      "|1.0|(13424,[4,30,33,5...|\n",
      "+---+--------------------+\n",
      "only showing top 20 rows\n",
      "\n"
     ]
    }
   ],
   "source": [
    "# Build a pipeline to clean the model and feature vector?\n",
    "pipe = Pipeline(stages=[token, stop_word, count_vec, idf, ham_spam_number, assembler])\n",
    "clean_data_model = pipe.fit(data)\n",
    "clean_data = clean_data_model.transform(data).select(\"idx\", \"feature_vector\")\n",
    "clean_data.show()"
   ]
  },
  {
   "cell_type": "code",
   "execution_count": 29,
   "metadata": {},
   "outputs": [
    {
     "name": "stdout",
     "output_type": "stream",
     "text": [
      "Training set:  3918\n",
      "Test set:  1656\n"
     ]
    }
   ],
   "source": [
    "# Split the data into train and test\n",
    "train_data, test_data = clean_data.randomSplit([0.7, 0.3])\n",
    "print(\"Training set: \", train_data.count())\n",
    "print(\"Test set: \", test_data.count())"
   ]
  },
  {
   "cell_type": "code",
   "execution_count": 30,
   "metadata": {},
   "outputs": [
    {
     "name": "stdout",
     "output_type": "stream",
     "text": [
      "+---+--------------------+--------------------+--------------------+----------+\n",
      "|idx|      feature_vector|       rawPrediction|         probability|prediction|\n",
      "+---+--------------------+--------------------+--------------------+----------+\n",
      "|0.0|(13424,[0,1,5,15,...|[-1001.4393904975...|[1.0,2.4497858119...|       0.0|\n",
      "|0.0|(13424,[0,1,14,18...|[-1375.9759744484...|[1.0,4.9113230924...|       0.0|\n",
      "|0.0|(13424,[0,1,17,19...|[-816.29941348569...|[1.0,8.8265094033...|       0.0|\n",
      "|0.0|(13424,[0,1,20,27...|[-969.00690500292...|[1.0,1.1048862419...|       0.0|\n",
      "|0.0|(13424,[0,1,23,63...|[-1326.4899573164...|[1.0,5.2694294115...|       0.0|\n",
      "|0.0|(13424,[0,1,27,88...|[-1538.9190759224...|[4.06350499365914...|       1.0|\n",
      "|0.0|(13424,[0,1,72,10...|[-667.70516315369...|[1.0,1.9760128913...|       0.0|\n",
      "|0.0|(13424,[0,1,498,5...|[-315.47723442747...|[0.99999999999999...|       0.0|\n",
      "|0.0|(13424,[0,1,874,1...|[-95.154667689581...|[0.99999998903334...|       0.0|\n",
      "|0.0|(13424,[0,2,3,5,3...|[-512.38502497849...|[0.99999999999995...|       0.0|\n",
      "|0.0|(13424,[0,2,3,6,9...|[-3287.9649103802...|[1.0,9.9468454315...|       0.0|\n",
      "|0.0|(13424,[0,2,4,5,7...|[-990.82146523813...|[1.0,5.6433600425...|       0.0|\n",
      "|0.0|(13424,[0,2,4,8,1...|[-1345.6140932313...|[0.99999999999998...|       0.0|\n",
      "|0.0|(13424,[0,2,4,8,2...|[-1416.1091769000...|[1.0,1.3366061573...|       0.0|\n",
      "|0.0|(13424,[0,2,4,11,...|[-1129.6414676758...|[1.0,8.0512455417...|       0.0|\n",
      "|0.0|(13424,[0,2,5,8,4...|[-837.90281164094...|[1.0,5.7004396432...|       0.0|\n",
      "|0.0|(13424,[0,2,7,8,1...|[-703.07151621286...|[1.0,1.3891008233...|       0.0|\n",
      "|0.0|(13424,[0,2,7,8,1...|[-469.38876116415...|[0.99999999478102...|       0.0|\n",
      "|0.0|(13424,[0,2,7,11,...|[-1414.5123572536...|[1.0,1.8933561177...|       0.0|\n",
      "|0.0|(13424,[0,2,7,11,...|[-833.76091853483...|[1.0,4.2256263588...|       0.0|\n",
      "+---+--------------------+--------------------+--------------------+----------+\n",
      "only showing top 20 rows\n",
      "\n"
     ]
    }
   ],
   "source": [
    "# Build a Naive Bayes model\n",
    "nb_model = nb.fit(train_data)\n",
    "\n",
    "prediction = nb_model.transform(test_data)\n",
    "prediction.show()"
   ]
  },
  {
   "cell_type": "code",
   "execution_count": 31,
   "metadata": {
    "collapsed": true
   },
   "outputs": [],
   "source": [
    "# Perform evaluation \n",
    "\n",
    "evaluator = MulticlassClassificationEvaluator(labelCol=\"idx\", predictionCol=\"prediction\", metricName=\"accuracy\")"
   ]
  },
  {
   "cell_type": "code",
   "execution_count": 32,
   "metadata": {},
   "outputs": [
    {
     "name": "stdout",
     "output_type": "stream",
     "text": [
      "Accuracy of this model is:  0.9082125603864735\n"
     ]
    }
   ],
   "source": [
    "result = evaluator.evaluate(prediction)\n",
    "print(\"Accuracy of this model is: \", result)"
   ]
  }
 ],
 "metadata": {
  "kernelspec": {
   "display_name": "Python 3",
   "language": "python",
   "name": "python3"
  },
  "language_info": {
   "codemirror_mode": {
    "name": "ipython",
    "version": 3
   },
   "file_extension": ".py",
   "mimetype": "text/x-python",
   "name": "python",
   "nbconvert_exporter": "python",
   "pygments_lexer": "ipython3",
   "version": "3.6.3"
  }
 },
 "nbformat": 4,
 "nbformat_minor": 2
}
