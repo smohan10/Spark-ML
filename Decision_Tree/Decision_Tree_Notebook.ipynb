{
 "cells": [
  {
   "cell_type": "markdown",
   "metadata": {},
   "source": [
    "### Tutorial on K-Means clustering algorithm\n",
    "\n",
    "#### For more information please visit:\n",
    "##### https://spark.apache.org/docs/latest/ml-classification-regression.html#decision-trees\n",
    "\n",
    "##### http://spark.apache.org/docs/2.0.0/api/python/_modules/pyspark/ml/evaluation.html\n"
   ]
  },
  {
   "cell_type": "code",
   "execution_count": 3,
   "metadata": {
    "collapsed": true
   },
   "outputs": [],
   "source": [
    "# Call all the imports\n",
    "from pyspark.sql import SparkSession\n",
    "from pyspark.ml.classification import DecisionTreeClassifier, RandomForestClassifier, GBTClassifier\n",
    "from pyspark.ml.feature import VectorAssembler, StringIndexer\n",
    "from pyspark.ml.evaluation import BinaryClassificationEvaluator, MulticlassClassificationEvaluator"
   ]
  },
  {
   "cell_type": "code",
   "execution_count": 4,
   "metadata": {
    "collapsed": true
   },
   "outputs": [],
   "source": [
    "# Create a spark session\n",
    "spark = SparkSession.builder.appName('trees').getOrCreate()"
   ]
  },
  {
   "cell_type": "code",
   "execution_count": 5,
   "metadata": {
    "collapsed": true
   },
   "outputs": [],
   "source": [
    "# work on libsvm formatted data\n",
    "data = spark.read.format(\"libsvm\").load(\"sample_libsvm_data.txt\")"
   ]
  },
  {
   "cell_type": "code",
   "execution_count": 6,
   "metadata": {},
   "outputs": [
    {
     "name": "stdout",
     "output_type": "stream",
     "text": [
      "+-----+--------------------+\n",
      "|label|            features|\n",
      "+-----+--------------------+\n",
      "|  0.0|(692,[127,128,129...|\n",
      "|  1.0|(692,[158,159,160...|\n",
      "|  1.0|(692,[124,125,126...|\n",
      "|  1.0|(692,[152,153,154...|\n",
      "|  1.0|(692,[151,152,153...|\n",
      "|  0.0|(692,[129,130,131...|\n",
      "|  1.0|(692,[158,159,160...|\n",
      "|  1.0|(692,[99,100,101,...|\n",
      "|  0.0|(692,[154,155,156...|\n",
      "|  0.0|(692,[127,128,129...|\n",
      "|  1.0|(692,[154,155,156...|\n",
      "|  0.0|(692,[153,154,155...|\n",
      "|  0.0|(692,[151,152,153...|\n",
      "|  1.0|(692,[129,130,131...|\n",
      "|  0.0|(692,[154,155,156...|\n",
      "|  1.0|(692,[150,151,152...|\n",
      "|  0.0|(692,[124,125,126...|\n",
      "|  0.0|(692,[152,153,154...|\n",
      "|  1.0|(692,[97,98,99,12...|\n",
      "|  1.0|(692,[124,125,126...|\n",
      "+-----+--------------------+\n",
      "only showing top 20 rows\n",
      "\n"
     ]
    }
   ],
   "source": [
    "data.show()"
   ]
  },
  {
   "cell_type": "code",
   "execution_count": 9,
   "metadata": {},
   "outputs": [
    {
     "name": "stdout",
     "output_type": "stream",
     "text": [
      "root\n",
      " |-- label: double (nullable = true)\n",
      " |-- features: vector (nullable = true)\n",
      "\n"
     ]
    }
   ],
   "source": [
    "data.printSchema()"
   ]
  },
  {
   "cell_type": "code",
   "execution_count": 10,
   "metadata": {
    "collapsed": true
   },
   "outputs": [],
   "source": [
    "# Split the data into train and test.\n",
    "# The ML models are trained on the training data and evaluated on the test data for performance\n",
    "train_data, test_data = data.randomSplit([0.7,0.3])"
   ]
  },
  {
   "cell_type": "markdown",
   "metadata": {},
   "source": [
    "### This notebook describes 3 types of Tree based classifiers\n",
    "1. Decision Tree\n",
    "2. Random Forest\n",
    "3. Gradient Boosted Trees\n",
    "<br>\n",
    "\n",
    "The Random Forest and Gradient Boosted Trees are variants of Decision Trees. These 2 algorithms treat the basic Decision Tree algorithm as a weak learner, combines multiple trees and builds a classifier.\n",
    "<br>\n",
    "\n",
    "Please refer the documentation for more details regarding the arguments."
   ]
  },
  {
   "cell_type": "code",
   "execution_count": 18,
   "metadata": {
    "collapsed": true
   },
   "outputs": [],
   "source": [
    "# Create the 3 types of classifiers\n",
    "\n",
    "dtc = DecisionTreeClassifier()\n",
    "rfc = RandomForestClassifier(numTrees=75)\n",
    "gbt = GBTClassifier()"
   ]
  },
  {
   "cell_type": "code",
   "execution_count": 13,
   "metadata": {
    "collapsed": true
   },
   "outputs": [],
   "source": [
    "# Build a model on the training data\n",
    "dtc_model = dtc.fit(train_data)\n",
    "rfc_model = rfc.fit(train_data)\n",
    "gbt_model = gbt.fit(train_data)"
   ]
  },
  {
   "cell_type": "code",
   "execution_count": 14,
   "metadata": {
    "collapsed": true
   },
   "outputs": [],
   "source": [
    "# Find out the prediction\n",
    "dtc_preds = dtc_model.transform(test_data)\n",
    "rfc_preds = rfc_model.transform(test_data)\n",
    "gbt_preds = gbt_model.transform(test_data)"
   ]
  },
  {
   "cell_type": "code",
   "execution_count": 15,
   "metadata": {},
   "outputs": [
    {
     "name": "stdout",
     "output_type": "stream",
     "text": [
      "+-----+--------------------+-------------+-----------+----------+\n",
      "|label|            features|rawPrediction|probability|prediction|\n",
      "+-----+--------------------+-------------+-----------+----------+\n",
      "|  0.0|(692,[98,99,100,1...|   [25.0,0.0]|  [1.0,0.0]|       0.0|\n",
      "|  0.0|(692,[121,122,123...|   [25.0,0.0]|  [1.0,0.0]|       0.0|\n",
      "|  0.0|(692,[122,123,124...|   [25.0,0.0]|  [1.0,0.0]|       0.0|\n",
      "|  0.0|(692,[123,124,125...|   [25.0,0.0]|  [1.0,0.0]|       0.0|\n",
      "|  0.0|(692,[124,125,126...|   [25.0,0.0]|  [1.0,0.0]|       0.0|\n",
      "|  0.0|(692,[124,125,126...|   [25.0,0.0]|  [1.0,0.0]|       0.0|\n",
      "|  0.0|(692,[124,125,126...|   [25.0,0.0]|  [1.0,0.0]|       0.0|\n",
      "|  0.0|(692,[126,127,128...|   [25.0,0.0]|  [1.0,0.0]|       0.0|\n",
      "|  0.0|(692,[126,127,128...|   [25.0,0.0]|  [1.0,0.0]|       0.0|\n",
      "|  0.0|(692,[126,127,128...|   [25.0,0.0]|  [1.0,0.0]|       0.0|\n",
      "|  0.0|(692,[128,129,130...|   [25.0,0.0]|  [1.0,0.0]|       0.0|\n",
      "|  0.0|(692,[151,152,153...|   [25.0,0.0]|  [1.0,0.0]|       0.0|\n",
      "|  0.0|(692,[153,154,155...|   [25.0,0.0]|  [1.0,0.0]|       0.0|\n",
      "|  0.0|(692,[153,154,155...|   [25.0,0.0]|  [1.0,0.0]|       0.0|\n",
      "|  0.0|(692,[154,155,156...|   [0.0,39.0]|  [0.0,1.0]|       1.0|\n",
      "|  0.0|(692,[154,155,156...|   [0.0,39.0]|  [0.0,1.0]|       1.0|\n",
      "|  0.0|(692,[181,182,183...|   [25.0,0.0]|  [1.0,0.0]|       0.0|\n",
      "|  0.0|(692,[234,235,237...|   [25.0,0.0]|  [1.0,0.0]|       0.0|\n",
      "|  1.0|(692,[100,101,102...|   [0.0,39.0]|  [0.0,1.0]|       1.0|\n",
      "|  1.0|(692,[123,124,125...|   [0.0,39.0]|  [0.0,1.0]|       1.0|\n",
      "+-----+--------------------+-------------+-----------+----------+\n",
      "only showing top 20 rows\n",
      "\n"
     ]
    }
   ],
   "source": [
    "dtc_preds.show()"
   ]
  },
  {
   "cell_type": "code",
   "execution_count": 16,
   "metadata": {},
   "outputs": [
    {
     "name": "stdout",
     "output_type": "stream",
     "text": [
      "+-----+--------------------+--------------------+--------------------+----------+\n",
      "|label|            features|       rawPrediction|         probability|prediction|\n",
      "+-----+--------------------+--------------------+--------------------+----------+\n",
      "|  0.0|(692,[98,99,100,1...|[1.54350200272498...|[0.95635347857270...|       0.0|\n",
      "|  0.0|(692,[121,122,123...|[1.54350200272498...|[0.95635347857270...|       0.0|\n",
      "|  0.0|(692,[122,123,124...|[1.54350200272498...|[0.95635347857270...|       0.0|\n",
      "|  0.0|(692,[123,124,125...|[1.54350200272498...|[0.95635347857270...|       0.0|\n",
      "|  0.0|(692,[124,125,126...|[1.54350200272498...|[0.95635347857270...|       0.0|\n",
      "|  0.0|(692,[124,125,126...|[1.54350200272498...|[0.95635347857270...|       0.0|\n",
      "|  0.0|(692,[124,125,126...|[1.54350200272498...|[0.95635347857270...|       0.0|\n",
      "|  0.0|(692,[126,127,128...|[1.54350200272498...|[0.95635347857270...|       0.0|\n",
      "|  0.0|(692,[126,127,128...|[1.54350200272498...|[0.95635347857270...|       0.0|\n",
      "|  0.0|(692,[126,127,128...|[1.54350200272498...|[0.95635347857270...|       0.0|\n",
      "|  0.0|(692,[128,129,130...|[1.54350200272498...|[0.95635347857270...|       0.0|\n",
      "|  0.0|(692,[151,152,153...|[1.54350200272498...|[0.95635347857270...|       0.0|\n",
      "|  0.0|(692,[153,154,155...|[1.54350200272498...|[0.95635347857270...|       0.0|\n",
      "|  0.0|(692,[153,154,155...|[1.54350200272498...|[0.95635347857270...|       0.0|\n",
      "|  0.0|(692,[154,155,156...|[-1.5435020027249...|[0.04364652142729...|       1.0|\n",
      "|  0.0|(692,[154,155,156...|[-1.5435020027249...|[0.04364652142729...|       1.0|\n",
      "|  0.0|(692,[181,182,183...|[1.54350200272498...|[0.95635347857270...|       0.0|\n",
      "|  0.0|(692,[234,235,237...|[1.54350200272498...|[0.95635347857270...|       0.0|\n",
      "|  1.0|(692,[100,101,102...|[-1.5435020027249...|[0.04364652142729...|       1.0|\n",
      "|  1.0|(692,[123,124,125...|[-1.5435020027249...|[0.04364652142729...|       1.0|\n",
      "+-----+--------------------+--------------------+--------------------+----------+\n",
      "only showing top 20 rows\n",
      "\n"
     ]
    }
   ],
   "source": [
    "gbt_preds.show()"
   ]
  },
  {
   "cell_type": "markdown",
   "metadata": {},
   "source": [
    "### Evaluators\n",
    "Now that the model has predicted on the test data, let us perform some evaluations. \n",
    "1. Pyspark supports BinaryClassificationEvaluator and MulticlassClassificationEvaluator for \n",
    "performing evaluations for classification algorithms\n",
    "2. One can measure metrics such as the Area under the curve, accuracy, precision and recall on the predictions and the input labels\n"
   ]
  },
  {
   "cell_type": "code",
   "execution_count": 19,
   "metadata": {
    "collapsed": true
   },
   "outputs": [],
   "source": [
    "binary_eval = BinaryClassificationEvaluator(metricName='areaUnderROC')"
   ]
  },
  {
   "cell_type": "code",
   "execution_count": 20,
   "metadata": {},
   "outputs": [
    {
     "name": "stdout",
     "output_type": "stream",
     "text": [
      "DTC AUC:  0.9444444444444444\n"
     ]
    }
   ],
   "source": [
    "dtc_eval = binary_eval.evaluate(dtc_preds)\n",
    "print(\"DTC AUC: \", dtc_eval)"
   ]
  },
  {
   "cell_type": "code",
   "execution_count": 21,
   "metadata": {},
   "outputs": [
    {
     "name": "stdout",
     "output_type": "stream",
     "text": [
      "RFC AUC:  1.0\n"
     ]
    }
   ],
   "source": [
    "rfc_eval = binary_eval.evaluate(rfc_preds)\n",
    "print(\"RFC AUC: \", rfc_eval)"
   ]
  },
  {
   "cell_type": "code",
   "execution_count": 22,
   "metadata": {},
   "outputs": [
    {
     "name": "stdout",
     "output_type": "stream",
     "text": [
      "GBT AUC:  0.9444444444444444\n"
     ]
    }
   ],
   "source": [
    "gbt_eval = binary_eval.evaluate(gbt_preds)\n",
    "print(\"GBT AUC: \", gbt_eval)"
   ]
  },
  {
   "cell_type": "code",
   "execution_count": 23,
   "metadata": {
    "collapsed": true
   },
   "outputs": [],
   "source": [
    "# Perform evaluation on the predictions\n",
    "multiclass_eval = MulticlassClassificationEvaluator(metricName='accuracy')"
   ]
  },
  {
   "cell_type": "code",
   "execution_count": 24,
   "metadata": {},
   "outputs": [
    {
     "name": "stdout",
     "output_type": "stream",
     "text": [
      "DTC accuracy:  0.9444444444444444\n"
     ]
    }
   ],
   "source": [
    "dtc_eval = multiclass_eval.evaluate(dtc_preds)\n",
    "print(\"DTC accuracy: \", dtc_eval)"
   ]
  },
  {
   "cell_type": "code",
   "execution_count": 25,
   "metadata": {},
   "outputs": [
    {
     "name": "stdout",
     "output_type": "stream",
     "text": [
      "RFC accuracy:  1.0\n"
     ]
    }
   ],
   "source": [
    "rfc_eval = multiclass_eval.evaluate(rfc_preds)\n",
    "print(\"RFC accuracy: \", rfc_eval)"
   ]
  },
  {
   "cell_type": "code",
   "execution_count": 26,
   "metadata": {},
   "outputs": [
    {
     "name": "stdout",
     "output_type": "stream",
     "text": [
      "GBT accuracy:  0.9444444444444444\n"
     ]
    }
   ],
   "source": [
    "gbt_eval = multiclass_eval.evaluate(gbt_preds)\n",
    "print(\"GBT accuracy: \", gbt_eval)"
   ]
  },
  {
   "cell_type": "markdown",
   "metadata": {},
   "source": [
    "### We see that for the above data, Random Forest does a really good job as a classifier"
   ]
  },
  {
   "cell_type": "markdown",
   "metadata": {},
   "source": [
    "### Working on College dataset\n",
    "#### The dataset contains statistics on colleges and the aim of the experiment is to determine whether the college is private or not "
   ]
  },
  {
   "cell_type": "code",
   "execution_count": 27,
   "metadata": {
    "collapsed": true
   },
   "outputs": [],
   "source": [
    "data = spark.read.csv(\"College.csv\", inferSchema=True, header=True)"
   ]
  },
  {
   "cell_type": "code",
   "execution_count": 28,
   "metadata": {},
   "outputs": [
    {
     "name": "stdout",
     "output_type": "stream",
     "text": [
      "root\n",
      " |-- School: string (nullable = true)\n",
      " |-- Private: string (nullable = true)\n",
      " |-- Apps: integer (nullable = true)\n",
      " |-- Accept: integer (nullable = true)\n",
      " |-- Enroll: integer (nullable = true)\n",
      " |-- Top10perc: integer (nullable = true)\n",
      " |-- Top25perc: integer (nullable = true)\n",
      " |-- F_Undergrad: integer (nullable = true)\n",
      " |-- P_Undergrad: integer (nullable = true)\n",
      " |-- Outstate: integer (nullable = true)\n",
      " |-- Room_Board: integer (nullable = true)\n",
      " |-- Books: integer (nullable = true)\n",
      " |-- Personal: integer (nullable = true)\n",
      " |-- PhD: integer (nullable = true)\n",
      " |-- Terminal: integer (nullable = true)\n",
      " |-- S_F_Ratio: double (nullable = true)\n",
      " |-- perc_alumni: integer (nullable = true)\n",
      " |-- Expend: integer (nullable = true)\n",
      " |-- Grad_Rate: integer (nullable = true)\n",
      "\n"
     ]
    }
   ],
   "source": [
    "data.printSchema()"
   ]
  },
  {
   "cell_type": "code",
   "execution_count": 29,
   "metadata": {},
   "outputs": [
    {
     "data": {
      "text/plain": [
       "[Row(School='Abilene Christian University', Private='Yes', Apps=1660, Accept=1232, Enroll=721, Top10perc=23, Top25perc=52, F_Undergrad=2885, P_Undergrad=537, Outstate=7440, Room_Board=3300, Books=450, Personal=2200, PhD=70, Terminal=78, S_F_Ratio=18.1, perc_alumni=12, Expend=7041, Grad_Rate=60)]"
      ]
     },
     "execution_count": 29,
     "metadata": {},
     "output_type": "execute_result"
    }
   ],
   "source": [
    "data.head(1)"
   ]
  },
  {
   "cell_type": "code",
   "execution_count": 30,
   "metadata": {},
   "outputs": [
    {
     "data": {
      "text/plain": [
       "['School',\n",
       " 'Private',\n",
       " 'Apps',\n",
       " 'Accept',\n",
       " 'Enroll',\n",
       " 'Top10perc',\n",
       " 'Top25perc',\n",
       " 'F_Undergrad',\n",
       " 'P_Undergrad',\n",
       " 'Outstate',\n",
       " 'Room_Board',\n",
       " 'Books',\n",
       " 'Personal',\n",
       " 'PhD',\n",
       " 'Terminal',\n",
       " 'S_F_Ratio',\n",
       " 'perc_alumni',\n",
       " 'Expend',\n",
       " 'Grad_Rate']"
      ]
     },
     "execution_count": 30,
     "metadata": {},
     "output_type": "execute_result"
    }
   ],
   "source": [
    "data.columns"
   ]
  },
  {
   "cell_type": "code",
   "execution_count": 31,
   "metadata": {},
   "outputs": [
    {
     "name": "stdout",
     "output_type": "stream",
     "text": [
      "+--------------------+-------+----+------+------+---------+---------+-----------+-----------+--------+----------+-----+--------+---+--------+---------+-----------+------+---------+--------------------+\n",
      "|              School|Private|Apps|Accept|Enroll|Top10perc|Top25perc|F_Undergrad|P_Undergrad|Outstate|Room_Board|Books|Personal|PhD|Terminal|S_F_Ratio|perc_alumni|Expend|Grad_Rate|            features|\n",
      "+--------------------+-------+----+------+------+---------+---------+-----------+-----------+--------+----------+-----+--------+---+--------+---------+-----------+------+---------+--------------------+\n",
      "|Abilene Christian...|    Yes|1660|  1232|   721|       23|       52|       2885|        537|    7440|      3300|  450|    2200| 70|      78|     18.1|         12|  7041|       60|[1660.0,1232.0,72...|\n",
      "|  Adelphi University|    Yes|2186|  1924|   512|       16|       29|       2683|       1227|   12280|      6450|  750|    1500| 29|      30|     12.2|         16| 10527|       56|[2186.0,1924.0,51...|\n",
      "|      Adrian College|    Yes|1428|  1097|   336|       22|       50|       1036|         99|   11250|      3750|  400|    1165| 53|      66|     12.9|         30|  8735|       54|[1428.0,1097.0,33...|\n",
      "| Agnes Scott College|    Yes| 417|   349|   137|       60|       89|        510|         63|   12960|      5450|  450|     875| 92|      97|      7.7|         37| 19016|       59|[417.0,349.0,137....|\n",
      "|Alaska Pacific Un...|    Yes| 193|   146|    55|       16|       44|        249|        869|    7560|      4120|  800|    1500| 76|      72|     11.9|          2| 10922|       15|[193.0,146.0,55.0...|\n",
      "|   Albertson College|    Yes| 587|   479|   158|       38|       62|        678|         41|   13500|      3335|  500|     675| 67|      73|      9.4|         11|  9727|       55|[587.0,479.0,158....|\n",
      "|Albertus Magnus C...|    Yes| 353|   340|   103|       17|       45|        416|        230|   13290|      5720|  500|    1500| 90|      93|     11.5|         26|  8861|       63|[353.0,340.0,103....|\n",
      "|      Albion College|    Yes|1899|  1720|   489|       37|       68|       1594|         32|   13868|      4826|  450|     850| 89|     100|     13.7|         37| 11487|       73|[1899.0,1720.0,48...|\n",
      "|    Albright College|    Yes|1038|   839|   227|       30|       63|        973|        306|   15595|      4400|  300|     500| 79|      84|     11.3|         23| 11644|       80|[1038.0,839.0,227...|\n",
      "|Alderson-Broaddus...|    Yes| 582|   498|   172|       21|       44|        799|         78|   10468|      3380|  660|    1800| 40|      41|     11.5|         15|  8991|       52|[582.0,498.0,172....|\n",
      "|   Alfred University|    Yes|1732|  1425|   472|       37|       75|       1830|        110|   16548|      5406|  500|     600| 82|      88|     11.3|         31| 10932|       73|[1732.0,1425.0,47...|\n",
      "|   Allegheny College|    Yes|2652|  1900|   484|       44|       77|       1707|         44|   17080|      4440|  400|     600| 73|      91|      9.9|         41| 11711|       76|[2652.0,1900.0,48...|\n",
      "|Allentown Coll. o...|    Yes|1179|   780|   290|       38|       64|       1130|        638|    9690|      4785|  600|    1000| 60|      84|     13.3|         21|  7940|       74|[1179.0,780.0,290...|\n",
      "|        Alma College|    Yes|1267|  1080|   385|       44|       73|       1306|         28|   12572|      4552|  400|     400| 79|      87|     15.3|         32|  9305|       68|[1267.0,1080.0,38...|\n",
      "|     Alverno College|    Yes| 494|   313|   157|       23|       46|       1317|       1235|    8352|      3640|  650|    2449| 36|      69|     11.1|         26|  8127|       55|[494.0,313.0,157....|\n",
      "|American Internat...|    Yes|1420|  1093|   220|        9|       22|       1018|        287|    8700|      4780|  450|    1400| 78|      84|     14.7|         19|  7355|       69|[1420.0,1093.0,22...|\n",
      "|     Amherst College|    Yes|4302|   992|   418|       83|       96|       1593|          5|   19760|      5300|  660|    1598| 93|      98|      8.4|         63| 21424|      100|[4302.0,992.0,418...|\n",
      "| Anderson University|    Yes|1216|   908|   423|       19|       40|       1819|        281|   10100|      3520|  550|    1100| 48|      61|     12.1|         14|  7994|       59|[1216.0,908.0,423...|\n",
      "|  Andrews University|    Yes|1130|   704|   322|       14|       23|       1586|        326|    9996|      3090|  900|    1320| 62|      66|     11.5|         18| 10908|       46|[1130.0,704.0,322...|\n",
      "|Angelo State Univ...|     No|3540|  2001|  1016|       24|       54|       4190|       1512|    5130|      3592|  500|    2000| 60|      62|     23.1|          5|  4010|       34|[3540.0,2001.0,10...|\n",
      "+--------------------+-------+----+------+------+---------+---------+-----------+-----------+--------+----------+-----+--------+---+--------+---------+-----------+------+---------+--------------------+\n",
      "only showing top 20 rows\n",
      "\n"
     ]
    }
   ],
   "source": [
    "# Create a features column using assember\n",
    "assembler=VectorAssembler(inputCols=['Apps',\n",
    " 'Accept',\n",
    " 'Enroll',\n",
    " 'Top10perc',\n",
    " 'Top25perc',\n",
    " 'F_Undergrad',\n",
    " 'P_Undergrad',\n",
    " 'Outstate',\n",
    " 'Room_Board',\n",
    " 'Books',\n",
    " 'Personal',\n",
    " 'PhD',\n",
    " 'Terminal',\n",
    " 'S_F_Ratio',\n",
    " 'perc_alumni',\n",
    " 'Expend',\n",
    " 'Grad_Rate'], outputCol='features')\n",
    "\n",
    "features_data = assembler.transform(data)\n",
    "features_data.show()"
   ]
  },
  {
   "cell_type": "code",
   "execution_count": 32,
   "metadata": {},
   "outputs": [
    {
     "name": "stdout",
     "output_type": "stream",
     "text": [
      "Number of rows:  777\n"
     ]
    }
   ],
   "source": [
    "print(\"Number of rows: \", features_data.count())"
   ]
  },
  {
   "cell_type": "code",
   "execution_count": 33,
   "metadata": {},
   "outputs": [
    {
     "name": "stdout",
     "output_type": "stream",
     "text": [
      "+--------------------+-------+----+------+------+---------+---------+-----------+-----------+--------+----------+-----+--------+---+--------+---------+-----------+------+---------+--------------------+-----+\n",
      "|              School|Private|Apps|Accept|Enroll|Top10perc|Top25perc|F_Undergrad|P_Undergrad|Outstate|Room_Board|Books|Personal|PhD|Terminal|S_F_Ratio|perc_alumni|Expend|Grad_Rate|            features|label|\n",
      "+--------------------+-------+----+------+------+---------+---------+-----------+-----------+--------+----------+-----+--------+---+--------+---------+-----------+------+---------+--------------------+-----+\n",
      "|Abilene Christian...|    Yes|1660|  1232|   721|       23|       52|       2885|        537|    7440|      3300|  450|    2200| 70|      78|     18.1|         12|  7041|       60|[1660.0,1232.0,72...|  0.0|\n",
      "|  Adelphi University|    Yes|2186|  1924|   512|       16|       29|       2683|       1227|   12280|      6450|  750|    1500| 29|      30|     12.2|         16| 10527|       56|[2186.0,1924.0,51...|  0.0|\n",
      "|      Adrian College|    Yes|1428|  1097|   336|       22|       50|       1036|         99|   11250|      3750|  400|    1165| 53|      66|     12.9|         30|  8735|       54|[1428.0,1097.0,33...|  0.0|\n",
      "| Agnes Scott College|    Yes| 417|   349|   137|       60|       89|        510|         63|   12960|      5450|  450|     875| 92|      97|      7.7|         37| 19016|       59|[417.0,349.0,137....|  0.0|\n",
      "|Alaska Pacific Un...|    Yes| 193|   146|    55|       16|       44|        249|        869|    7560|      4120|  800|    1500| 76|      72|     11.9|          2| 10922|       15|[193.0,146.0,55.0...|  0.0|\n",
      "|   Albertson College|    Yes| 587|   479|   158|       38|       62|        678|         41|   13500|      3335|  500|     675| 67|      73|      9.4|         11|  9727|       55|[587.0,479.0,158....|  0.0|\n",
      "|Albertus Magnus C...|    Yes| 353|   340|   103|       17|       45|        416|        230|   13290|      5720|  500|    1500| 90|      93|     11.5|         26|  8861|       63|[353.0,340.0,103....|  0.0|\n",
      "|      Albion College|    Yes|1899|  1720|   489|       37|       68|       1594|         32|   13868|      4826|  450|     850| 89|     100|     13.7|         37| 11487|       73|[1899.0,1720.0,48...|  0.0|\n",
      "|    Albright College|    Yes|1038|   839|   227|       30|       63|        973|        306|   15595|      4400|  300|     500| 79|      84|     11.3|         23| 11644|       80|[1038.0,839.0,227...|  0.0|\n",
      "|Alderson-Broaddus...|    Yes| 582|   498|   172|       21|       44|        799|         78|   10468|      3380|  660|    1800| 40|      41|     11.5|         15|  8991|       52|[582.0,498.0,172....|  0.0|\n",
      "|   Alfred University|    Yes|1732|  1425|   472|       37|       75|       1830|        110|   16548|      5406|  500|     600| 82|      88|     11.3|         31| 10932|       73|[1732.0,1425.0,47...|  0.0|\n",
      "|   Allegheny College|    Yes|2652|  1900|   484|       44|       77|       1707|         44|   17080|      4440|  400|     600| 73|      91|      9.9|         41| 11711|       76|[2652.0,1900.0,48...|  0.0|\n",
      "|Allentown Coll. o...|    Yes|1179|   780|   290|       38|       64|       1130|        638|    9690|      4785|  600|    1000| 60|      84|     13.3|         21|  7940|       74|[1179.0,780.0,290...|  0.0|\n",
      "|        Alma College|    Yes|1267|  1080|   385|       44|       73|       1306|         28|   12572|      4552|  400|     400| 79|      87|     15.3|         32|  9305|       68|[1267.0,1080.0,38...|  0.0|\n",
      "|     Alverno College|    Yes| 494|   313|   157|       23|       46|       1317|       1235|    8352|      3640|  650|    2449| 36|      69|     11.1|         26|  8127|       55|[494.0,313.0,157....|  0.0|\n",
      "|American Internat...|    Yes|1420|  1093|   220|        9|       22|       1018|        287|    8700|      4780|  450|    1400| 78|      84|     14.7|         19|  7355|       69|[1420.0,1093.0,22...|  0.0|\n",
      "|     Amherst College|    Yes|4302|   992|   418|       83|       96|       1593|          5|   19760|      5300|  660|    1598| 93|      98|      8.4|         63| 21424|      100|[4302.0,992.0,418...|  0.0|\n",
      "| Anderson University|    Yes|1216|   908|   423|       19|       40|       1819|        281|   10100|      3520|  550|    1100| 48|      61|     12.1|         14|  7994|       59|[1216.0,908.0,423...|  0.0|\n",
      "|  Andrews University|    Yes|1130|   704|   322|       14|       23|       1586|        326|    9996|      3090|  900|    1320| 62|      66|     11.5|         18| 10908|       46|[1130.0,704.0,322...|  0.0|\n",
      "|Angelo State Univ...|     No|3540|  2001|  1016|       24|       54|       4190|       1512|    5130|      3592|  500|    2000| 60|      62|     23.1|          5|  4010|       34|[3540.0,2001.0,10...|  1.0|\n",
      "+--------------------+-------+----+------+------+---------+---------+-----------+-----------+--------+----------+-----+--------+---+--------+---------+-----------+------+---------+--------------------+-----+\n",
      "only showing top 20 rows\n",
      "\n"
     ]
    }
   ],
   "source": [
    "# Convert the predictions column from string to index\n",
    "private_idx = StringIndexer(inputCol='Private', outputCol='label')\n",
    "final_data = private_idx.fit(features_data).transform(features_data)\n",
    "final_data.show()"
   ]
  },
  {
   "cell_type": "code",
   "execution_count": 34,
   "metadata": {},
   "outputs": [
    {
     "name": "stdout",
     "output_type": "stream",
     "text": [
      "root\n",
      " |-- School: string (nullable = true)\n",
      " |-- Private: string (nullable = true)\n",
      " |-- Apps: integer (nullable = true)\n",
      " |-- Accept: integer (nullable = true)\n",
      " |-- Enroll: integer (nullable = true)\n",
      " |-- Top10perc: integer (nullable = true)\n",
      " |-- Top25perc: integer (nullable = true)\n",
      " |-- F_Undergrad: integer (nullable = true)\n",
      " |-- P_Undergrad: integer (nullable = true)\n",
      " |-- Outstate: integer (nullable = true)\n",
      " |-- Room_Board: integer (nullable = true)\n",
      " |-- Books: integer (nullable = true)\n",
      " |-- Personal: integer (nullable = true)\n",
      " |-- PhD: integer (nullable = true)\n",
      " |-- Terminal: integer (nullable = true)\n",
      " |-- S_F_Ratio: double (nullable = true)\n",
      " |-- perc_alumni: integer (nullable = true)\n",
      " |-- Expend: integer (nullable = true)\n",
      " |-- Grad_Rate: integer (nullable = true)\n",
      " |-- features: vector (nullable = true)\n",
      " |-- label: double (nullable = true)\n",
      "\n"
     ]
    }
   ],
   "source": [
    "final_data.printSchema()"
   ]
  },
  {
   "cell_type": "code",
   "execution_count": 35,
   "metadata": {
    "collapsed": true
   },
   "outputs": [],
   "source": [
    "final_data_truncated = final_data.select(['features','label'])"
   ]
  },
  {
   "cell_type": "code",
   "execution_count": 36,
   "metadata": {},
   "outputs": [
    {
     "name": "stdout",
     "output_type": "stream",
     "text": [
      "+--------------------+-----+\n",
      "|            features|label|\n",
      "+--------------------+-----+\n",
      "|[1660.0,1232.0,72...|  0.0|\n",
      "|[2186.0,1924.0,51...|  0.0|\n",
      "|[1428.0,1097.0,33...|  0.0|\n",
      "|[417.0,349.0,137....|  0.0|\n",
      "|[193.0,146.0,55.0...|  0.0|\n",
      "|[587.0,479.0,158....|  0.0|\n",
      "|[353.0,340.0,103....|  0.0|\n",
      "|[1899.0,1720.0,48...|  0.0|\n",
      "|[1038.0,839.0,227...|  0.0|\n",
      "|[582.0,498.0,172....|  0.0|\n",
      "|[1732.0,1425.0,47...|  0.0|\n",
      "|[2652.0,1900.0,48...|  0.0|\n",
      "|[1179.0,780.0,290...|  0.0|\n",
      "|[1267.0,1080.0,38...|  0.0|\n",
      "|[494.0,313.0,157....|  0.0|\n",
      "|[1420.0,1093.0,22...|  0.0|\n",
      "|[4302.0,992.0,418...|  0.0|\n",
      "|[1216.0,908.0,423...|  0.0|\n",
      "|[1130.0,704.0,322...|  0.0|\n",
      "|[3540.0,2001.0,10...|  1.0|\n",
      "+--------------------+-----+\n",
      "only showing top 20 rows\n",
      "\n"
     ]
    }
   ],
   "source": [
    "final_data_truncated.show()"
   ]
  },
  {
   "cell_type": "code",
   "execution_count": 37,
   "metadata": {},
   "outputs": [
    {
     "name": "stdout",
     "output_type": "stream",
     "text": [
      "Training set size:  532\n",
      "Test set size:  245\n"
     ]
    }
   ],
   "source": [
    "# Split the data into train and test\n",
    "train_data, test_data = final_data_truncated.randomSplit([0.7,0.3])\n",
    "print('Training set size: ', train_data.count())\n",
    "print('Test set size: ', test_data.count())"
   ]
  },
  {
   "cell_type": "code",
   "execution_count": 38,
   "metadata": {
    "collapsed": true
   },
   "outputs": [],
   "source": [
    "# Create the 3 types of classifiers\n",
    "dtc = DecisionTreeClassifier()\n",
    "rfc = RandomForestClassifier(numTrees=75)\n",
    "gbt = GBTClassifier()"
   ]
  },
  {
   "cell_type": "code",
   "execution_count": 39,
   "metadata": {
    "collapsed": true
   },
   "outputs": [],
   "source": [
    "# Build a model on the training data\n",
    "dtc_model = dtc.fit(train_data)\n",
    "rfc_model = rfc.fit(train_data)\n",
    "gbt_model = gbt.fit(train_data)"
   ]
  },
  {
   "cell_type": "code",
   "execution_count": 40,
   "metadata": {
    "collapsed": true
   },
   "outputs": [],
   "source": [
    "# Find out the prediction\n",
    "dtc_preds = dtc_model.transform(test_data)\n",
    "rfc_preds = rfc_model.transform(test_data)\n",
    "gbt_preds = gbt_model.transform(test_data)"
   ]
  },
  {
   "cell_type": "code",
   "execution_count": 41,
   "metadata": {},
   "outputs": [
    {
     "name": "stdout",
     "output_type": "stream",
     "text": [
      "+--------------------+-----+-------------+--------------------+----------+\n",
      "|            features|label|rawPrediction|         probability|prediction|\n",
      "+--------------------+-----+-------------+--------------------+----------+\n",
      "|[222.0,185.0,91.0...|  0.0|  [284.0,0.0]|           [1.0,0.0]|       0.0|\n",
      "|[232.0,216.0,106....|  0.0|   [20.0,2.0]|[0.90909090909090...|       0.0|\n",
      "|[233.0,233.0,153....|  1.0|   [10.0,0.0]|           [1.0,0.0]|       0.0|\n",
      "|[235.0,217.0,121....|  0.0|  [284.0,0.0]|           [1.0,0.0]|       0.0|\n",
      "|[247.0,189.0,100....|  0.0|  [284.0,0.0]|           [1.0,0.0]|       0.0|\n",
      "|[261.0,192.0,111....|  0.0|  [284.0,0.0]|           [1.0,0.0]|       0.0|\n",
      "|[285.0,280.0,208....|  1.0|    [0.0,5.0]|           [0.0,1.0]|       1.0|\n",
      "|[291.0,245.0,126....|  0.0|  [284.0,0.0]|           [1.0,0.0]|       0.0|\n",
      "|[313.0,228.0,137....|  0.0|  [284.0,0.0]|           [1.0,0.0]|       0.0|\n",
      "|[335.0,284.0,132....|  0.0|  [284.0,0.0]|           [1.0,0.0]|       0.0|\n",
      "|[342.0,254.0,126....|  0.0|  [284.0,0.0]|           [1.0,0.0]|       0.0|\n",
      "|[367.0,274.0,158....|  0.0|  [284.0,0.0]|           [1.0,0.0]|       0.0|\n",
      "|[369.0,312.0,90.0...|  0.0|  [284.0,0.0]|           [1.0,0.0]|       0.0|\n",
      "|[392.0,351.0,155....|  0.0|  [284.0,0.0]|           [1.0,0.0]|       0.0|\n",
      "|[404.0,400.0,169....|  0.0|   [10.0,0.0]|           [1.0,0.0]|       0.0|\n",
      "|[420.0,293.0,93.0...|  0.0|  [284.0,0.0]|           [1.0,0.0]|       0.0|\n",
      "|[441.0,369.0,172....|  1.0|    [9.0,4.0]|[0.69230769230769...|       0.0|\n",
      "|[458.0,369.0,165....|  0.0|  [284.0,0.0]|           [1.0,0.0]|       0.0|\n",
      "|[460.0,340.0,167....|  0.0|  [284.0,0.0]|           [1.0,0.0]|       0.0|\n",
      "|[461.0,381.0,174....|  0.0|  [284.0,0.0]|           [1.0,0.0]|       0.0|\n",
      "+--------------------+-----+-------------+--------------------+----------+\n",
      "only showing top 20 rows\n",
      "\n"
     ]
    }
   ],
   "source": [
    "dtc_preds.show()"
   ]
  },
  {
   "cell_type": "code",
   "execution_count": 42,
   "metadata": {},
   "outputs": [
    {
     "name": "stdout",
     "output_type": "stream",
     "text": [
      "+--------------------+-----+--------------------+--------------------+----------+\n",
      "|            features|label|       rawPrediction|         probability|prediction|\n",
      "+--------------------+-----+--------------------+--------------------+----------+\n",
      "|[222.0,185.0,91.0...|  0.0|[74.75950205586,0...|[0.9967933607448,...|       0.0|\n",
      "|[232.0,216.0,106....|  0.0|[67.8327047952005...|[0.90443606393600...|       0.0|\n",
      "|[233.0,233.0,153....|  1.0|[42.3218385249059...|[0.56429118033207...|       0.0|\n",
      "|[235.0,217.0,121....|  0.0|[74.745621865495,...|[0.99660829153993...|       0.0|\n",
      "|[247.0,189.0,100....|  0.0|[74.6160273273125...|[0.99488036436416...|       0.0|\n",
      "|[261.0,192.0,111....|  0.0|[74.6399986957796...|[0.99519998261039...|       0.0|\n",
      "|[285.0,280.0,208....|  1.0|[31.7145458302982...|[0.42286061107064...|       1.0|\n",
      "|[291.0,245.0,126....|  0.0|[71.6173496968159...|[0.95489799595754...|       0.0|\n",
      "|[313.0,228.0,137....|  0.0|[74.7065801067180...|[0.99608773475624...|       0.0|\n",
      "|[335.0,284.0,132....|  0.0|[74.8318349723343...|[0.99775779963112...|       0.0|\n",
      "|[342.0,254.0,126....|  0.0|[74.4953439979828...|[0.99327125330643...|       0.0|\n",
      "|[367.0,274.0,158....|  0.0|[69.1156559044493...|[0.92154207872599...|       0.0|\n",
      "|[369.0,312.0,90.0...|  0.0|[74.0988952659493...|[0.98798527021265...|       0.0|\n",
      "|[392.0,351.0,155....|  0.0|[74.7679938433473...|[0.99690658457796...|       0.0|\n",
      "|[404.0,400.0,169....|  0.0|[69.2622656742461...|[0.92349687565661...|       0.0|\n",
      "|[420.0,293.0,93.0...|  0.0|[72.7080183785653...|[0.96944024504753...|       0.0|\n",
      "|[441.0,369.0,172....|  1.0|[61.4731800921592...|[0.81964240122878...|       0.0|\n",
      "|[458.0,369.0,165....|  0.0|[74.6338016194492...|[0.99511735492599...|       0.0|\n",
      "|[460.0,340.0,167....|  0.0|[74.8375542513351...|[0.99783405668446...|       0.0|\n",
      "|[461.0,381.0,174....|  0.0|[74.6608428623199...|[0.99547790483093...|       0.0|\n",
      "+--------------------+-----+--------------------+--------------------+----------+\n",
      "only showing top 20 rows\n",
      "\n"
     ]
    }
   ],
   "source": [
    "rfc_preds.show()"
   ]
  },
  {
   "cell_type": "code",
   "execution_count": 43,
   "metadata": {},
   "outputs": [
    {
     "name": "stdout",
     "output_type": "stream",
     "text": [
      "+--------------------+-----+--------------------+--------------------+----------+\n",
      "|            features|label|       rawPrediction|         probability|prediction|\n",
      "+--------------------+-----+--------------------+--------------------+----------+\n",
      "|[222.0,185.0,91.0...|  0.0|[1.53962092213656...|[0.95602832414333...|       0.0|\n",
      "|[232.0,216.0,106....|  0.0|[1.22810719081675...|[0.92101471046073...|       0.0|\n",
      "|[233.0,233.0,153....|  1.0|[-0.1081136393004...|[0.44615281571216...|       1.0|\n",
      "|[235.0,217.0,121....|  0.0|[1.53962092213656...|[0.95602832414333...|       0.0|\n",
      "|[247.0,189.0,100....|  0.0|[1.53962092213656...|[0.95602832414333...|       0.0|\n",
      "|[261.0,192.0,111....|  0.0|[1.53962092213656...|[0.95602832414333...|       0.0|\n",
      "|[285.0,280.0,208....|  1.0|[-1.2135084256339...|[0.08113559101401...|       1.0|\n",
      "|[291.0,245.0,126....|  0.0|[1.54007676506976...|[0.95606663381649...|       0.0|\n",
      "|[313.0,228.0,137....|  0.0|[1.53962092213656...|[0.95602832414333...|       0.0|\n",
      "|[335.0,284.0,132....|  0.0|[1.53962092213656...|[0.95602832414333...|       0.0|\n",
      "|[342.0,254.0,126....|  0.0|[1.53962092213656...|[0.95602832414333...|       0.0|\n",
      "|[367.0,274.0,158....|  0.0|[1.53962092213656...|[0.95602832414333...|       0.0|\n",
      "|[369.0,312.0,90.0...|  0.0|[1.53962092213656...|[0.95602832414333...|       0.0|\n",
      "|[392.0,351.0,155....|  0.0|[1.53962092213656...|[0.95602832414333...|       0.0|\n",
      "|[404.0,400.0,169....|  0.0|[1.71431212555274...|[0.96858723618674...|       0.0|\n",
      "|[420.0,293.0,93.0...|  0.0|[1.58610471197114...|[0.95977497045907...|       0.0|\n",
      "|[441.0,369.0,172....|  1.0|[1.18584026895246...|[0.91464215478246...|       0.0|\n",
      "|[458.0,369.0,165....|  0.0|[1.53962092213656...|[0.95602832414333...|       0.0|\n",
      "|[460.0,340.0,167....|  0.0|[1.53962092213656...|[0.95602832414333...|       0.0|\n",
      "|[461.0,381.0,174....|  0.0|[1.53962092213656...|[0.95602832414333...|       0.0|\n",
      "+--------------------+-----+--------------------+--------------------+----------+\n",
      "only showing top 20 rows\n",
      "\n"
     ]
    }
   ],
   "source": [
    "gbt_preds.show()"
   ]
  },
  {
   "cell_type": "code",
   "execution_count": 44,
   "metadata": {
    "collapsed": true
   },
   "outputs": [],
   "source": [
    "# Perform evaluation on the predictions\n",
    "multiclass_eval = MulticlassClassificationEvaluator(metricName='accuracy')"
   ]
  },
  {
   "cell_type": "code",
   "execution_count": 45,
   "metadata": {},
   "outputs": [
    {
     "name": "stdout",
     "output_type": "stream",
     "text": [
      "DTC accuracy:  0.9183673469387755\n"
     ]
    }
   ],
   "source": [
    "dtc_eval = multiclass_eval.evaluate(dtc_preds)\n",
    "print(\"DTC accuracy: \", dtc_eval)"
   ]
  },
  {
   "cell_type": "code",
   "execution_count": 46,
   "metadata": {},
   "outputs": [
    {
     "name": "stdout",
     "output_type": "stream",
     "text": [
      "RFC accuracy:  0.9346938775510204\n"
     ]
    }
   ],
   "source": [
    "rfc_eval = multiclass_eval.evaluate(rfc_preds)\n",
    "print(\"RFC accuracy: \", rfc_eval)"
   ]
  },
  {
   "cell_type": "code",
   "execution_count": 47,
   "metadata": {},
   "outputs": [
    {
     "name": "stdout",
     "output_type": "stream",
     "text": [
      "GBT accuracy:  0.9444444444444444\n"
     ]
    }
   ],
   "source": [
    "GBT_eval = multiclass_eval.evaluate(gbt_preds)\n",
    "print(\"GBT accuracy: \", gbt_eval)"
   ]
  },
  {
   "cell_type": "code",
   "execution_count": null,
   "metadata": {
    "collapsed": true
   },
   "outputs": [],
   "source": []
  },
  {
   "cell_type": "markdown",
   "metadata": {},
   "source": [
    "### Working with Dog Food dataset\n",
    "#### Based on the chemical's present in the meal, determine whether this food is spoilt or not"
   ]
  },
  {
   "cell_type": "code",
   "execution_count": 48,
   "metadata": {
    "collapsed": true
   },
   "outputs": [],
   "source": [
    "data = spark.read.csv(\"dog_food.csv\", inferSchema=True, header=True)"
   ]
  },
  {
   "cell_type": "code",
   "execution_count": 49,
   "metadata": {},
   "outputs": [
    {
     "name": "stdout",
     "output_type": "stream",
     "text": [
      "root\n",
      " |-- A: integer (nullable = true)\n",
      " |-- B: integer (nullable = true)\n",
      " |-- C: double (nullable = true)\n",
      " |-- D: integer (nullable = true)\n",
      " |-- Spoiled: double (nullable = true)\n",
      "\n"
     ]
    }
   ],
   "source": [
    "data.printSchema()"
   ]
  },
  {
   "cell_type": "code",
   "execution_count": 50,
   "metadata": {},
   "outputs": [
    {
     "name": "stdout",
     "output_type": "stream",
     "text": [
      "+---+---+----+---+-------+\n",
      "|  A|  B|   C|  D|Spoiled|\n",
      "+---+---+----+---+-------+\n",
      "|  4|  2|12.0|  3|    1.0|\n",
      "|  5|  6|12.0|  7|    1.0|\n",
      "|  6|  2|13.0|  6|    1.0|\n",
      "|  4|  2|12.0|  1|    1.0|\n",
      "|  4|  2|12.0|  3|    1.0|\n",
      "| 10|  3|13.0|  9|    1.0|\n",
      "|  8|  5|14.0|  5|    1.0|\n",
      "|  5|  8|12.0|  8|    1.0|\n",
      "|  6|  5|12.0|  9|    1.0|\n",
      "|  3|  3|12.0|  1|    1.0|\n",
      "|  9|  8|11.0|  3|    1.0|\n",
      "|  1| 10|12.0|  3|    1.0|\n",
      "|  1|  5|13.0| 10|    1.0|\n",
      "|  2| 10|12.0|  6|    1.0|\n",
      "|  1| 10|11.0|  4|    1.0|\n",
      "|  5|  3|12.0|  2|    1.0|\n",
      "|  4|  9|11.0|  8|    1.0|\n",
      "|  5|  1|11.0|  1|    1.0|\n",
      "|  4|  9|12.0| 10|    1.0|\n",
      "|  5|  8|10.0|  9|    1.0|\n",
      "+---+---+----+---+-------+\n",
      "only showing top 20 rows\n",
      "\n"
     ]
    }
   ],
   "source": [
    "data.show()"
   ]
  },
  {
   "cell_type": "code",
   "execution_count": 51,
   "metadata": {},
   "outputs": [
    {
     "data": {
      "text/plain": [
       "[Row(A=4, B=2, C=12.0, D=3, Spoiled=1.0),\n",
       " Row(A=5, B=6, C=12.0, D=7, Spoiled=1.0)]"
      ]
     },
     "execution_count": 51,
     "metadata": {},
     "output_type": "execute_result"
    }
   ],
   "source": [
    "data.head(2)"
   ]
  },
  {
   "cell_type": "code",
   "execution_count": 52,
   "metadata": {},
   "outputs": [
    {
     "data": {
      "text/plain": [
       "['A', 'B', 'C', 'D', 'Spoiled']"
      ]
     },
     "execution_count": 52,
     "metadata": {},
     "output_type": "execute_result"
    }
   ],
   "source": [
    "data.columns"
   ]
  },
  {
   "cell_type": "code",
   "execution_count": 53,
   "metadata": {},
   "outputs": [
    {
     "name": "stdout",
     "output_type": "stream",
     "text": [
      "+---+---+----+---+-------+-------------------+\n",
      "|  A|  B|   C|  D|Spoiled|           features|\n",
      "+---+---+----+---+-------+-------------------+\n",
      "|  4|  2|12.0|  3|    1.0| [4.0,2.0,12.0,3.0]|\n",
      "|  5|  6|12.0|  7|    1.0| [5.0,6.0,12.0,7.0]|\n",
      "|  6|  2|13.0|  6|    1.0| [6.0,2.0,13.0,6.0]|\n",
      "|  4|  2|12.0|  1|    1.0| [4.0,2.0,12.0,1.0]|\n",
      "|  4|  2|12.0|  3|    1.0| [4.0,2.0,12.0,3.0]|\n",
      "| 10|  3|13.0|  9|    1.0|[10.0,3.0,13.0,9.0]|\n",
      "|  8|  5|14.0|  5|    1.0| [8.0,5.0,14.0,5.0]|\n",
      "|  5|  8|12.0|  8|    1.0| [5.0,8.0,12.0,8.0]|\n",
      "|  6|  5|12.0|  9|    1.0| [6.0,5.0,12.0,9.0]|\n",
      "|  3|  3|12.0|  1|    1.0| [3.0,3.0,12.0,1.0]|\n",
      "|  9|  8|11.0|  3|    1.0| [9.0,8.0,11.0,3.0]|\n",
      "|  1| 10|12.0|  3|    1.0|[1.0,10.0,12.0,3.0]|\n",
      "|  1|  5|13.0| 10|    1.0|[1.0,5.0,13.0,10.0]|\n",
      "|  2| 10|12.0|  6|    1.0|[2.0,10.0,12.0,6.0]|\n",
      "|  1| 10|11.0|  4|    1.0|[1.0,10.0,11.0,4.0]|\n",
      "|  5|  3|12.0|  2|    1.0| [5.0,3.0,12.0,2.0]|\n",
      "|  4|  9|11.0|  8|    1.0| [4.0,9.0,11.0,8.0]|\n",
      "|  5|  1|11.0|  1|    1.0| [5.0,1.0,11.0,1.0]|\n",
      "|  4|  9|12.0| 10|    1.0|[4.0,9.0,12.0,10.0]|\n",
      "|  5|  8|10.0|  9|    1.0| [5.0,8.0,10.0,9.0]|\n",
      "+---+---+----+---+-------+-------------------+\n",
      "only showing top 20 rows\n",
      "\n"
     ]
    }
   ],
   "source": [
    "# Create a features column using assember\n",
    "assembler=VectorAssembler(inputCols=['A', 'B', 'C', 'D'], outputCol='features')\n",
    "\n",
    "features_data = assembler.transform(data)\n",
    "features_data.show()"
   ]
  },
  {
   "cell_type": "code",
   "execution_count": 54,
   "metadata": {},
   "outputs": [
    {
     "name": "stdout",
     "output_type": "stream",
     "text": [
      "+-------------------+-------+\n",
      "|           features|Spoiled|\n",
      "+-------------------+-------+\n",
      "| [4.0,2.0,12.0,3.0]|    1.0|\n",
      "| [5.0,6.0,12.0,7.0]|    1.0|\n",
      "| [6.0,2.0,13.0,6.0]|    1.0|\n",
      "| [4.0,2.0,12.0,1.0]|    1.0|\n",
      "| [4.0,2.0,12.0,3.0]|    1.0|\n",
      "|[10.0,3.0,13.0,9.0]|    1.0|\n",
      "| [8.0,5.0,14.0,5.0]|    1.0|\n",
      "| [5.0,8.0,12.0,8.0]|    1.0|\n",
      "| [6.0,5.0,12.0,9.0]|    1.0|\n",
      "| [3.0,3.0,12.0,1.0]|    1.0|\n",
      "| [9.0,8.0,11.0,3.0]|    1.0|\n",
      "|[1.0,10.0,12.0,3.0]|    1.0|\n",
      "|[1.0,5.0,13.0,10.0]|    1.0|\n",
      "|[2.0,10.0,12.0,6.0]|    1.0|\n",
      "|[1.0,10.0,11.0,4.0]|    1.0|\n",
      "| [5.0,3.0,12.0,2.0]|    1.0|\n",
      "| [4.0,9.0,11.0,8.0]|    1.0|\n",
      "| [5.0,1.0,11.0,1.0]|    1.0|\n",
      "|[4.0,9.0,12.0,10.0]|    1.0|\n",
      "| [5.0,8.0,10.0,9.0]|    1.0|\n",
      "+-------------------+-------+\n",
      "only showing top 20 rows\n",
      "\n"
     ]
    }
   ],
   "source": [
    "final_data = features_data.select(['features','Spoiled'])\n",
    "final_data.show()"
   ]
  },
  {
   "cell_type": "code",
   "execution_count": 55,
   "metadata": {},
   "outputs": [
    {
     "name": "stdout",
     "output_type": "stream",
     "text": [
      "Training set size:  360\n",
      "Test set size:  130\n"
     ]
    }
   ],
   "source": [
    "# Split the data into train and test\n",
    "train_data, test_data = final_data.randomSplit([0.7,0.3])\n",
    "print('Training set size: ', train_data.count())\n",
    "print('Test set size: ', test_data.count())"
   ]
  },
  {
   "cell_type": "code",
   "execution_count": 56,
   "metadata": {
    "collapsed": true
   },
   "outputs": [],
   "source": [
    "# Create the 3 types of classifiers\n",
    "dtc = DecisionTreeClassifier(labelCol='Spoiled')\n",
    "rfc = RandomForestClassifier(labelCol='Spoiled')\n",
    "gbt = GBTClassifier(labelCol='Spoiled')"
   ]
  },
  {
   "cell_type": "code",
   "execution_count": 57,
   "metadata": {
    "collapsed": true
   },
   "outputs": [],
   "source": [
    "# Build a model on the training data\n",
    "dtc_model = dtc.fit(train_data)\n",
    "rfc_model = rfc.fit(train_data)\n",
    "gbt_model = gbt.fit(train_data)"
   ]
  },
  {
   "cell_type": "code",
   "execution_count": 58,
   "metadata": {
    "collapsed": true
   },
   "outputs": [],
   "source": [
    "# Find out the prediction\n",
    "dtc_preds = dtc_model.transform(test_data)\n",
    "rfc_preds = rfc_model.transform(test_data)\n",
    "gbt_preds = gbt_model.transform(test_data)"
   ]
  },
  {
   "cell_type": "code",
   "execution_count": 59,
   "metadata": {},
   "outputs": [
    {
     "name": "stdout",
     "output_type": "stream",
     "text": [
      "+-------------------+-------+-------------+-----------+----------+\n",
      "|           features|Spoiled|rawPrediction|probability|prediction|\n",
      "+-------------------+-------+-------------+-----------+----------+\n",
      "|  [1.0,5.0,8.0,3.0]|    0.0|  [201.0,0.0]|  [1.0,0.0]|       0.0|\n",
      "|[1.0,6.0,11.0,10.0]|    1.0|   [0.0,10.0]|  [0.0,1.0]|       1.0|\n",
      "|  [1.0,7.0,7.0,6.0]|    0.0|  [201.0,0.0]|  [1.0,0.0]|       0.0|\n",
      "|  [1.0,8.0,6.0,6.0]|    0.0|  [201.0,0.0]|  [1.0,0.0]|       0.0|\n",
      "|  [1.0,8.0,8.0,7.0]|    0.0|  [201.0,0.0]|  [1.0,0.0]|       0.0|\n",
      "|  [1.0,9.0,7.0,4.0]|    0.0|  [201.0,0.0]|  [1.0,0.0]|       0.0|\n",
      "|[1.0,10.0,11.0,4.0]|    1.0|   [0.0,78.0]|  [0.0,1.0]|       1.0|\n",
      "|  [2.0,1.0,7.0,9.0]|    0.0|  [201.0,0.0]|  [1.0,0.0]|       0.0|\n",
      "|  [2.0,1.0,9.0,1.0]|    0.0|    [6.0,0.0]|  [1.0,0.0]|       0.0|\n",
      "| [2.0,2.0,6.0,10.0]|    0.0|  [201.0,0.0]|  [1.0,0.0]|       0.0|\n",
      "|  [2.0,2.0,8.0,1.0]|    0.0|    [6.0,0.0]|  [1.0,0.0]|       0.0|\n",
      "|  [2.0,2.0,9.0,8.0]|    0.0|  [201.0,0.0]|  [1.0,0.0]|       0.0|\n",
      "|  [2.0,3.0,6.0,9.0]|    0.0|  [201.0,0.0]|  [1.0,0.0]|       0.0|\n",
      "| [2.0,3.0,12.0,3.0]|    1.0|   [0.0,78.0]|  [0.0,1.0]|       1.0|\n",
      "| [2.0,3.0,13.0,1.0]|    1.0|   [0.0,78.0]|  [0.0,1.0]|       1.0|\n",
      "|  [2.0,5.0,9.0,5.0]|    0.0|  [201.0,0.0]|  [1.0,0.0]|       0.0|\n",
      "|  [2.0,6.0,9.0,4.0]|    0.0|  [201.0,0.0]|  [1.0,0.0]|       0.0|\n",
      "| [2.0,6.0,12.0,2.0]|    1.0|   [0.0,78.0]|  [0.0,1.0]|       1.0|\n",
      "| [2.0,6.0,13.0,9.0]|    1.0|   [0.0,78.0]|  [0.0,1.0]|       1.0|\n",
      "| [2.0,8.0,9.0,10.0]|    0.0|  [201.0,0.0]|  [1.0,0.0]|       0.0|\n",
      "+-------------------+-------+-------------+-----------+----------+\n",
      "only showing top 20 rows\n",
      "\n"
     ]
    }
   ],
   "source": [
    "dtc_preds.show()"
   ]
  },
  {
   "cell_type": "code",
   "execution_count": 60,
   "metadata": {},
   "outputs": [
    {
     "name": "stdout",
     "output_type": "stream",
     "text": [
      "+-------------------+-------+--------------------+--------------------+----------+\n",
      "|           features|Spoiled|       rawPrediction|         probability|prediction|\n",
      "+-------------------+-------+--------------------+--------------------+----------+\n",
      "|  [1.0,5.0,8.0,3.0]|    0.0|[19.6785714285714...|[0.98392857142857...|       0.0|\n",
      "|[1.0,6.0,11.0,10.0]|    1.0|          [0.5,19.5]|       [0.025,0.975]|       1.0|\n",
      "|  [1.0,7.0,7.0,6.0]|    0.0|[19.9545454545454...|[0.99772727272727...|       0.0|\n",
      "|  [1.0,8.0,6.0,6.0]|    0.0|[19.9545454545454...|[0.99772727272727...|       0.0|\n",
      "|  [1.0,8.0,8.0,7.0]|    0.0|[19.9545454545454...|[0.99772727272727...|       0.0|\n",
      "|  [1.0,9.0,7.0,4.0]|    0.0|          [20.0,0.0]|           [1.0,0.0]|       0.0|\n",
      "|[1.0,10.0,11.0,4.0]|    1.0|          [1.0,19.0]|         [0.05,0.95]|       1.0|\n",
      "|  [2.0,1.0,7.0,9.0]|    0.0|          [20.0,0.0]|           [1.0,0.0]|       0.0|\n",
      "|  [2.0,1.0,9.0,1.0]|    0.0|[19.0857142857142...|[0.95428571428571...|       0.0|\n",
      "| [2.0,2.0,6.0,10.0]|    0.0|          [20.0,0.0]|           [1.0,0.0]|       0.0|\n",
      "|  [2.0,2.0,8.0,1.0]|    0.0|          [19.6,0.4]|[0.98000000000000...|       0.0|\n",
      "|  [2.0,2.0,9.0,8.0]|    0.0|[19.0277597402597...|[0.95138798701298...|       0.0|\n",
      "|  [2.0,3.0,6.0,9.0]|    0.0|          [20.0,0.0]|           [1.0,0.0]|       0.0|\n",
      "| [2.0,3.0,12.0,3.0]|    1.0|[0.67857142857142...|[0.03392857142857...|       1.0|\n",
      "| [2.0,3.0,13.0,1.0]|    1.0|[0.67857142857142...|[0.03392857142857...|       1.0|\n",
      "|  [2.0,5.0,9.0,5.0]|    0.0|[19.5664502164502...|[0.97832251082251...|       0.0|\n",
      "|  [2.0,6.0,9.0,4.0]|    0.0|          [20.0,0.0]|           [1.0,0.0]|       0.0|\n",
      "| [2.0,6.0,12.0,2.0]|    1.0|          [2.0,18.0]|           [0.1,0.9]|       1.0|\n",
      "| [2.0,6.0,13.0,9.0]|    1.0|          [1.0,19.0]|         [0.05,0.95]|       1.0|\n",
      "| [2.0,8.0,9.0,10.0]|    0.0|      [19.875,0.125]|   [0.99375,0.00625]|       0.0|\n",
      "+-------------------+-------+--------------------+--------------------+----------+\n",
      "only showing top 20 rows\n",
      "\n"
     ]
    }
   ],
   "source": [
    "rfc_preds.show()"
   ]
  },
  {
   "cell_type": "code",
   "execution_count": 61,
   "metadata": {},
   "outputs": [
    {
     "name": "stdout",
     "output_type": "stream",
     "text": [
      "+-------------------+-------+--------------------+--------------------+----------+\n",
      "|           features|Spoiled|       rawPrediction|         probability|prediction|\n",
      "+-------------------+-------+--------------------+--------------------+----------+\n",
      "|  [1.0,5.0,8.0,3.0]|    0.0|[1.54353023554322...|[0.95635583547248...|       0.0|\n",
      "|[1.0,6.0,11.0,10.0]|    1.0|[-1.5435020027249...|[0.04364652142729...|       1.0|\n",
      "|  [1.0,7.0,7.0,6.0]|    0.0|[1.54353023554322...|[0.95635583547248...|       0.0|\n",
      "|  [1.0,8.0,6.0,6.0]|    0.0|[1.54353023554322...|[0.95635583547248...|       0.0|\n",
      "|  [1.0,8.0,8.0,7.0]|    0.0|[1.54353023554322...|[0.95635583547248...|       0.0|\n",
      "|  [1.0,9.0,7.0,4.0]|    0.0|[1.54353023554322...|[0.95635583547248...|       0.0|\n",
      "|[1.0,10.0,11.0,4.0]|    1.0|[-1.5435020027249...|[0.04364652142729...|       1.0|\n",
      "|  [2.0,1.0,7.0,9.0]|    0.0|[1.54052534090612...|[0.95610430166578...|       0.0|\n",
      "|  [2.0,1.0,9.0,1.0]|    0.0|[1.23210623028690...|[0.92159458790110...|       0.0|\n",
      "| [2.0,2.0,6.0,10.0]|    0.0|[1.54367164283300...|[0.95636763844619...|       0.0|\n",
      "|  [2.0,2.0,8.0,1.0]|    0.0|[1.57095990032701...|[0.95858915620733...|       0.0|\n",
      "|  [2.0,2.0,9.0,8.0]|    0.0|[1.54428970908056...|[0.95641919140896...|       0.0|\n",
      "|  [2.0,3.0,6.0,9.0]|    0.0|[1.54354987347603...|[0.95635747479225...|       0.0|\n",
      "| [2.0,3.0,12.0,3.0]|    1.0|[-1.5435020027249...|[0.04364652142729...|       1.0|\n",
      "| [2.0,3.0,13.0,1.0]|    1.0|[-1.5435020027249...|[0.04364652142729...|       1.0|\n",
      "|  [2.0,5.0,9.0,5.0]|    0.0|[1.54460992871085...|[0.95644587809024...|       0.0|\n",
      "|  [2.0,6.0,9.0,4.0]|    0.0|[1.54460992871085...|[0.95644587809024...|       0.0|\n",
      "| [2.0,6.0,12.0,2.0]|    1.0|[-1.5435020027249...|[0.04364652142729...|       1.0|\n",
      "| [2.0,6.0,13.0,9.0]|    1.0|[-1.5435020027249...|[0.04364652142729...|       1.0|\n",
      "| [2.0,8.0,9.0,10.0]|    0.0|[1.54460992871085...|[0.95644587809024...|       0.0|\n",
      "+-------------------+-------+--------------------+--------------------+----------+\n",
      "only showing top 20 rows\n",
      "\n"
     ]
    }
   ],
   "source": [
    "gbt_preds.show()"
   ]
  },
  {
   "cell_type": "code",
   "execution_count": 62,
   "metadata": {
    "collapsed": true
   },
   "outputs": [],
   "source": [
    "# Perform evaluation on the predictions\n",
    "multiclass_eval = MulticlassClassificationEvaluator(labelCol='Spoiled', metricName='accuracy')"
   ]
  },
  {
   "cell_type": "code",
   "execution_count": 63,
   "metadata": {},
   "outputs": [
    {
     "name": "stdout",
     "output_type": "stream",
     "text": [
      "DTC accuracy:  0.9769230769230769\n"
     ]
    }
   ],
   "source": [
    "dtc_eval = multiclass_eval.evaluate(dtc_preds)\n",
    "print(\"DTC accuracy: \", dtc_eval)"
   ]
  },
  {
   "cell_type": "code",
   "execution_count": 64,
   "metadata": {},
   "outputs": [
    {
     "name": "stdout",
     "output_type": "stream",
     "text": [
      "RFC accuracy:  0.9769230769230769\n"
     ]
    }
   ],
   "source": [
    "rfc_eval = multiclass_eval.evaluate(rfc_preds)\n",
    "print(\"RFC accuracy: \", rfc_eval)"
   ]
  },
  {
   "cell_type": "code",
   "execution_count": 65,
   "metadata": {},
   "outputs": [
    {
     "name": "stdout",
     "output_type": "stream",
     "text": [
      "GBT accuracy:  0.9692307692307692\n"
     ]
    }
   ],
   "source": [
    "gbt_eval = multiclass_eval.evaluate(gbt_preds)\n",
    "print(\"GBT accuracy: \", gbt_eval)"
   ]
  },
  {
   "cell_type": "code",
   "execution_count": 66,
   "metadata": {},
   "outputs": [
    {
     "data": {
      "text/plain": [
       "SparseVector(4, {0: 0.0063, 1: 0.0088, 2: 0.9499, 3: 0.035})"
      ]
     },
     "execution_count": 66,
     "metadata": {},
     "output_type": "execute_result"
    }
   ],
   "source": [
    "# Feature importances\n",
    "dtc_model.featureImportances"
   ]
  },
  {
   "cell_type": "code",
   "execution_count": 67,
   "metadata": {},
   "outputs": [
    {
     "data": {
      "text/plain": [
       "SparseVector(4, {0: 0.0181, 1: 0.0174, 2: 0.9389, 3: 0.0256})"
      ]
     },
     "execution_count": 67,
     "metadata": {},
     "output_type": "execute_result"
    }
   ],
   "source": [
    "# Feature importances\n",
    "rfc_model.featureImportances"
   ]
  },
  {
   "cell_type": "code",
   "execution_count": 68,
   "metadata": {},
   "outputs": [
    {
     "data": {
      "text/plain": [
       "SparseVector(4, {0: 0.0517, 1: 0.0321, 2: 0.8696, 3: 0.0466})"
      ]
     },
     "execution_count": 68,
     "metadata": {},
     "output_type": "execute_result"
    }
   ],
   "source": [
    "# Feature importances\n",
    "gbt_model.featureImportances"
   ]
  },
  {
   "cell_type": "markdown",
   "metadata": {
    "collapsed": true
   },
   "source": [
    "#### Another feature of PySpark's MLLib is that the user can see the feature importance of the models for every features as shown above"
   ]
  },
  {
   "cell_type": "code",
   "execution_count": null,
   "metadata": {
    "collapsed": true
   },
   "outputs": [],
   "source": []
  }
 ],
 "metadata": {
  "kernelspec": {
   "display_name": "Python 3",
   "language": "python",
   "name": "python3"
  },
  "language_info": {
   "codemirror_mode": {
    "name": "ipython",
    "version": 3
   },
   "file_extension": ".py",
   "mimetype": "text/x-python",
   "name": "python",
   "nbconvert_exporter": "python",
   "pygments_lexer": "ipython3",
   "version": "3.6.3"
  }
 },
 "nbformat": 4,
 "nbformat_minor": 2
}
