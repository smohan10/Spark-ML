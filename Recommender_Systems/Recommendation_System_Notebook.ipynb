{
 "cells": [
  {
   "cell_type": "markdown",
   "metadata": {},
   "source": [
    "### Tutorial on Recommender Systems (Collaborative Filtering)\n",
    "\n",
    "#### For more information please visit:\n",
    "#### https://spark.apache.org/docs/2.1.0/ml-collaborative-filtering.html"
   ]
  },
  {
   "cell_type": "code",
   "execution_count": 2,
   "metadata": {
    "collapsed": true
   },
   "outputs": [],
   "source": [
    "# Import the libraries\n",
    "from pyspark.sql import SparkSession\n",
    "from pyspark.ml.recommendation import ALS\n",
    "from pyspark.ml.evaluation import RegressionEvaluator"
   ]
  },
  {
   "cell_type": "code",
   "execution_count": 3,
   "metadata": {
    "collapsed": true
   },
   "outputs": [],
   "source": [
    "# Create a spark session\n",
    "spark = SparkSession.builder.appName(\"reco_sys\").getOrCreate()"
   ]
  },
  {
   "cell_type": "code",
   "execution_count": 4,
   "metadata": {
    "collapsed": true
   },
   "outputs": [],
   "source": [
    "# Read the movie lens dataset\n",
    "data = spark.read.csv('movielens_ratings.csv',inferSchema=True,header=True)"
   ]
  },
  {
   "cell_type": "code",
   "execution_count": 6,
   "metadata": {},
   "outputs": [
    {
     "name": "stdout",
     "output_type": "stream",
     "text": [
      "+-------+------+------+\n",
      "|movieId|rating|userId|\n",
      "+-------+------+------+\n",
      "|      2|   3.0|     0|\n",
      "|      3|   1.0|     0|\n",
      "|      5|   2.0|     0|\n",
      "|      9|   4.0|     0|\n",
      "|     11|   1.0|     0|\n",
      "|     12|   2.0|     0|\n",
      "|     15|   1.0|     0|\n",
      "|     17|   1.0|     0|\n",
      "|     19|   1.0|     0|\n",
      "|     21|   1.0|     0|\n",
      "|     23|   1.0|     0|\n",
      "|     26|   3.0|     0|\n",
      "|     27|   1.0|     0|\n",
      "|     28|   1.0|     0|\n",
      "|     29|   1.0|     0|\n",
      "|     30|   1.0|     0|\n",
      "|     31|   1.0|     0|\n",
      "|     34|   1.0|     0|\n",
      "|     37|   1.0|     0|\n",
      "|     41|   2.0|     0|\n",
      "+-------+------+------+\n",
      "only showing top 20 rows\n",
      "\n"
     ]
    }
   ],
   "source": [
    "# The data consists of user ID, movie ID and ratings columns\n",
    "data.show()"
   ]
  },
  {
   "cell_type": "code",
   "execution_count": 7,
   "metadata": {},
   "outputs": [
    {
     "name": "stdout",
     "output_type": "stream",
     "text": [
      "root\n",
      " |-- movieId: integer (nullable = true)\n",
      " |-- rating: double (nullable = true)\n",
      " |-- userId: integer (nullable = true)\n",
      "\n"
     ]
    }
   ],
   "source": [
    "data.printSchema()"
   ]
  },
  {
   "cell_type": "code",
   "execution_count": 8,
   "metadata": {
    "collapsed": true
   },
   "outputs": [],
   "source": [
    "# Create train and test data\n",
    "train_data, test_data = data.randomSplit([0.8, 0.2])"
   ]
  },
  {
   "cell_type": "code",
   "execution_count": 9,
   "metadata": {
    "collapsed": true
   },
   "outputs": [],
   "source": [
    "# The algorithm used for collaborative filtering is Alternate Least Squares\n",
    "als = ALS(maxIter=5, userCol='userId', ratingCol='rating', itemCol='movieId')"
   ]
  },
  {
   "cell_type": "code",
   "execution_count": 10,
   "metadata": {
    "collapsed": true
   },
   "outputs": [],
   "source": [
    "# Create a model\n",
    "model = als.fit(train_data)"
   ]
  },
  {
   "cell_type": "code",
   "execution_count": 11,
   "metadata": {},
   "outputs": [
    {
     "name": "stdout",
     "output_type": "stream",
     "text": [
      "+-------+------+------+-----------+\n",
      "|movieId|rating|userId| prediction|\n",
      "+-------+------+------+-----------+\n",
      "|     31|   1.0|    26|-0.58979523|\n",
      "|     31|   1.0|    19| 0.53235674|\n",
      "|     31|   1.0|     0| 0.99249953|\n",
      "|     85|   1.0|    12| 0.49733388|\n",
      "|     85|   1.0|     5|  1.1904873|\n",
      "|     85|   1.0|    23| 0.07371688|\n",
      "|     85|   1.0|    25|  1.7314409|\n",
      "|     85|   1.0|    29|  1.3394027|\n",
      "|     65|   2.0|     3|  2.0913997|\n",
      "|     65|   2.0|     5|  2.8285742|\n",
      "|     65|   2.0|    15|  1.7267818|\n",
      "|     65|   1.0|     2|  1.3626434|\n",
      "|     53|   1.0|    12|  0.6836374|\n",
      "|     53|   3.0|    13|  1.9102029|\n",
      "|     53|   2.0|    19|  2.0836706|\n",
      "|     53|   1.0|     7|  2.7030106|\n",
      "|     78|   1.0|    22|  1.2372901|\n",
      "|     78|   1.0|    17| 0.88190645|\n",
      "|     78|   1.0|    24|  1.0178746|\n",
      "|     78|   1.0|    11|  1.2543551|\n",
      "+-------+------+------+-----------+\n",
      "only showing top 20 rows\n",
      "\n"
     ]
    }
   ],
   "source": [
    "# Transform the test data\n",
    "predictions = model.transform(test_data)\n",
    "predictions.show()"
   ]
  },
  {
   "cell_type": "code",
   "execution_count": 14,
   "metadata": {
    "collapsed": true
   },
   "outputs": [],
   "source": [
    "# Evaluate the model: Using a regression evaluator as the predictions are real valued continuous numbers\n",
    "reg = RegressionEvaluator(predictionCol='prediction', metricName='rmse', labelCol=\"rating\" )"
   ]
  },
  {
   "cell_type": "code",
   "execution_count": 15,
   "metadata": {},
   "outputs": [
    {
     "name": "stdout",
     "output_type": "stream",
     "text": [
      "RMSE:  1.0197470955620793\n"
     ]
    }
   ],
   "source": [
    "rmse = reg.evaluate(predictions)\n",
    "print(\"RMSE: \", rmse)"
   ]
  },
  {
   "cell_type": "code",
   "execution_count": 16,
   "metadata": {
    "collapsed": true
   },
   "outputs": [],
   "source": [
    "# Take a single user\n",
    "single_user = test_data.filter(test_data['userId']==11).select([\"movieId\", \"userId\"])"
   ]
  },
  {
   "cell_type": "code",
   "execution_count": 17,
   "metadata": {
    "collapsed": true
   },
   "outputs": [],
   "source": [
    "user_pred = model.transform(single_user)"
   ]
  },
  {
   "cell_type": "code",
   "execution_count": 18,
   "metadata": {},
   "outputs": [
    {
     "name": "stdout",
     "output_type": "stream",
     "text": [
      "+-------+------+----------+\n",
      "|movieId|userId|prediction|\n",
      "+-------+------+----------+\n",
      "|     18|    11| 3.9303148|\n",
      "|     51|    11| 3.0288196|\n",
      "|     76|    11| 2.8124604|\n",
      "|     48|    11| 2.6151693|\n",
      "|     30|    11| 2.5955782|\n",
      "|     66|    11| 2.3128262|\n",
      "|     80|    11| 2.2977905|\n",
      "|      6|    11| 2.2801278|\n",
      "|     36|    11| 2.1252913|\n",
      "|     43|    11| 2.0249476|\n",
      "|     77|    11| 1.9049665|\n",
      "|     35|    11| 1.8851352|\n",
      "|     21|    11| 1.3030387|\n",
      "|     10|    11| 1.2650675|\n",
      "|     78|    11| 1.2543551|\n",
      "+-------+------+----------+\n",
      "\n"
     ]
    }
   ],
   "source": [
    "user_pred.orderBy(\"prediction\", ascending=False).show()"
   ]
  },
  {
   "cell_type": "code",
   "execution_count": null,
   "metadata": {
    "collapsed": true
   },
   "outputs": [],
   "source": []
  }
 ],
 "metadata": {
  "kernelspec": {
   "display_name": "Python 3",
   "language": "python",
   "name": "python3"
  },
  "language_info": {
   "codemirror_mode": {
    "name": "ipython",
    "version": 3
   },
   "file_extension": ".py",
   "mimetype": "text/x-python",
   "name": "python",
   "nbconvert_exporter": "python",
   "pygments_lexer": "ipython3",
   "version": "3.6.3"
  }
 },
 "nbformat": 4,
 "nbformat_minor": 2
}
